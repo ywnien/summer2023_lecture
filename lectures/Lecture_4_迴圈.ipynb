{
 "cells": [
  {
   "cell_type": "markdown",
   "metadata": {},
   "source": [
    "# 迴圈 Loop\n",
    "\n",
    "什麼事情人最討厭做，電腦最喜歡做?\\\n",
    "Ans: **反覆做同一件事**\n",
    "\n",
    "反覆做同一件事就是迴圈，而且電腦不只是能精確地完成，執行速度也很快。"
   ]
  },
  {
   "cell_type": "code",
   "execution_count": 1,
   "metadata": {},
   "outputs": [
    {
     "data": {
      "text/plain": [
       "6666661664.588265"
      ]
     },
     "execution_count": 1,
     "metadata": {},
     "output_type": "execute_result"
    }
   ],
   "source": [
    "res = 0\n",
    "for i in range(1000000): # 0, 1, 2, ..., 999999\n",
    "    res += 10 * i ** 0.5\n",
    "res"
   ]
  },
  {
   "cell_type": "markdown",
   "metadata": {},
   "source": [
    "在 python 裡有 `for` 與 `while` 兩種迴圈\n",
    "* for 處理迴圈次數已知的情況，比如處理一個 list 裡面的所有資料\n",
    "* while 處理迴圈次數未知的情形，當給定的條件不為真時就會停止\n",
    "\n",
    "# for 迴圈\n",
    "\n",
    "for 迴圈實在太常用了，所以在前面的部分還是忍不住提到了一下。特別是上節課提到的容器常常會裝有大量的資料，一個個把元素取出來處理是不實際的。\n",
    "\n",
    "for 迴圈就是用來告訴電腦我要對這裡面的每一個元素做一樣的事。\n",
    "\n",
    "---\n",
    "#### Syntax\n",
    "```python\n",
    "for value in sample_list: # 不只是 list, str, dict, set 都可以放到 for loop\n",
    "    # 做你想做的任何事情!\n",
    "    # 記得要縮排，不然不會在迴圈內執行的\n",
    "```\n",
    "---\n",
    "\n",
    "* 這裡的 `value` 可以換作任何你想要的名稱\n",
    "* `value` 會在迴圈的過程中不斷更新，從 `sample_list` 中最初的元素更新到最後的元素。\n",
    "* **縮排**表示程式碼是在**迴圈裡面**執行，沒有縮排代表該程式碼不在\n",
    "    * 像是我們前面 `if else` 提過的，慣例上是空 4 個空格。\n",
    "\n",
    "## 安全性\n",
    "for loop 不只是方便，也不容易出 bug\n",
    "* 在 for 迴圈內 `value` 會自動換成下一個元素\n",
    "* 如果我們改變了 `value` 的值，是不會影響到 `sample_list` 裡面的元素的。"
   ]
  },
  {
   "cell_type": "code",
   "execution_count": 2,
   "metadata": {},
   "outputs": [
    {
     "name": "stdout",
     "output_type": "stream",
     "text": [
      "4 9 25 49 121 169 289 361 \n",
      "[2, 3, 5, 7, 11, 13, 17, 19]\n"
     ]
    }
   ],
   "source": [
    "sample_list = [2, 3, 5, 7, 11, 13, 17, 19]\n",
    "\n",
    "for value in sample_list:\n",
    "    value = value ** 2\n",
    "    print(value, end=\" \") # end=\" \" 會讓 print 結束的換行改成空一格\n",
    "\n",
    "print()\n",
    "print(sample_list)"
   ]
  },
  {
   "cell_type": "markdown",
   "metadata": {},
   "source": [
    "## 除了容器之外\n",
    "\n",
    "上一節課最後提到，除了容器之外還有一些常用的迭代器 (iterator)，可以放到 for 迴圈中給出數值\n",
    "\n",
    "### `range`\n",
    "`range` 會給出一段整數，而根據參數的數目不同，參數的意義也不太一樣"
   ]
  },
  {
   "cell_type": "code",
   "execution_count": 3,
   "metadata": {},
   "outputs": [
    {
     "name": "stdout",
     "output_type": "stream",
     "text": [
      "0 1 2 3 4 5 6 7 8 9 "
     ]
    }
   ],
   "source": [
    "for i in range(10): # range(STOP) 數到 10 的時候停止\n",
    "    print(i, end=\" \")"
   ]
  },
  {
   "cell_type": "code",
   "execution_count": 31,
   "metadata": {},
   "outputs": [
    {
     "name": "stdout",
     "output_type": "stream",
     "text": [
      "10 11 12 13 14 15 16 17 18 19 "
     ]
    }
   ],
   "source": [
    "for i in range(10, 20): # range(START, STOP)\n",
    "    print(i, end=\" \")   # 10 變成 START，數到 STOP (20) 的時候停止"
   ]
  },
  {
   "cell_type": "code",
   "execution_count": 4,
   "metadata": {},
   "outputs": [
    {
     "name": "stdout",
     "output_type": "stream",
     "text": [
      "0 2 4 6 8 "
     ]
    }
   ],
   "source": [
    "for i in range(0, 10, 2): # range(START, STOP, STEP) 也可以加 STEP 的\n",
    "    print(i, end=\" \")     # 不過很少用"
   ]
  },
  {
   "cell_type": "markdown",
   "metadata": {},
   "source": [
    "使用 range 計算數列的和時很方便，最簡單的例子: 1 加到 10"
   ]
  },
  {
   "cell_type": "code",
   "execution_count": 34,
   "metadata": {},
   "outputs": [
    {
     "name": "stdout",
     "output_type": "stream",
     "text": [
      "55\n"
     ]
    }
   ],
   "source": [
    "total = 0\n",
    "for i in range(1, 11): # 數到 11 停止，因此才會加到 10\n",
    "    total += i\n",
    "print(total)"
   ]
  },
  {
   "cell_type": "markdown",
   "metadata": {},
   "source": [
    "## while 迴圈\n",
    "\n",
    "while 會帶有一個邏輯判斷式，如果判斷的結果是 `True` 就繼續執行，反之則停止。\n",
    "\n",
    "---\n",
    "#### Syntax\n",
    "```python\n",
    "while condition:\n",
    "    # 做任何你想做的事情，記得縮排\n",
    "    # 如果 condition 是 True 就會一直執行\n",
    "```\n",
    "---\n",
    "\n",
    "雖然 for loop 能做的事情 while 也能做，但是 while 不會自動幫你換成下一個元素，也不會在最後一個元素的時候停下來，所以個人建議如果可以用 for 迴圈就不用 while。\n",
    "\n",
    "當然不是 while 不好，只是用到 while 的迴圈往往比較複雜。\n",
    "\n",
    "下面有簡單範例描述如何用 while 迴圈 從 1 加到 10"
   ]
  },
  {
   "cell_type": "code",
   "execution_count": 6,
   "metadata": {},
   "outputs": [
    {
     "name": "stdout",
     "output_type": "stream",
     "text": [
      "500000500000\n"
     ]
    }
   ],
   "source": [
    "total = 0\n",
    "for i in range(1000001):\n",
    "    total += i\n",
    "\n",
    "print(total)"
   ]
  },
  {
   "cell_type": "code",
   "execution_count": 5,
   "metadata": {},
   "outputs": [
    {
     "name": "stdout",
     "output_type": "stream",
     "text": [
      "500000500000\n"
     ]
    }
   ],
   "source": [
    "total = 0\n",
    "i = 0\n",
    "while i < 1000001:\n",
    "    total += i\n",
    "    i += 1\n",
    "print(total)"
   ]
  },
  {
   "cell_type": "markdown",
   "metadata": {},
   "source": [
    "#### 我們國中數學課的時候可能有教過怎麼找出開根號過的值，以求 $\\sqrt{2}$ 為例子好了\n",
    "* $1^2 < 2$，$2^2 > 2$，所以值會落在 1 和 2 之間\n",
    "* 找一個 1 和 2 之間的值來試，這裡用兩者的平均 1.5 來試，$ 1.5 ^ 2 > 2$，所以範圍縮到 1 到 1.5 之間\n",
    "* **一樣**，找 1 和 1.5 之間的值來試，用 1.25。 $1.25^2 < 2$，所以範圍縮到 1.25 到 1.5 之間\n",
    "* 重複直到找到平方後約等於2的值為止"
   ]
  },
  {
   "cell_type": "code",
   "execution_count": 1,
   "metadata": {},
   "outputs": [
    {
     "name": "stdout",
     "output_type": "stream",
     "text": [
      "1.4142135605216026\n"
     ]
    }
   ],
   "source": [
    "lower = 1 # 範圍的下限\n",
    "upper = 2 # 範圍的上限\n",
    "value = (upper + lower) / 2 # 放要嘗試的值\n",
    "\n",
    "while abs(value ** 2 - 2) > 1e-8: # abs 也是 python 內建的函式，求絕對值\n",
    "    if value ** 2 > 2:\n",
    "        upper = value\n",
    "    else:\n",
    "        lower = value \n",
    "\n",
    "    value = (upper + lower) / 2\n",
    "\n",
    "print(value)\n"
   ]
  },
  {
   "cell_type": "markdown",
   "metadata": {},
   "source": [
    "如果我們忘記寫 `value = (upper + lower) / 2`，while 後面的判斷會永遠為 `True`，這個時候程式就永遠不會停下來了。產生無窮迴圈也是寫 while loop 常見的 bug ，如果不幸遇到了只能手動把程式停下來"
   ]
  },
  {
   "cell_type": "markdown",
   "metadata": {},
   "source": [
    "# 流程控制 flow control\n",
    "\n",
    "迴圈中某些情況可能會讓我們想要跳到下一圈回圈，或是甚至乾脆把整個迴圈停下來。在迴圈中寫 `continue` 會跳過目前的迴圈，`break` 則會將迴圈停下來。\n",
    "\n",
    "下面的例子是在 `numbers` 裡面放了 1 到 10 的數字，只是有些是整數，有些是大寫數字。用一個迴圈把它統一轉換成整數。"
   ]
  },
  {
   "cell_type": "code",
   "execution_count": 21,
   "metadata": {},
   "outputs": [
    {
     "name": "stdout",
     "output_type": "stream",
     "text": [
      "[1, 2, 3, 4, 5, 6, 7, 8, 9, 10]\n"
     ]
    }
   ],
   "source": [
    "numbers = [1, \"貳\", 3, 4, \"伍\", \"陸\", 7, \"捌\", 9, \"拾\"]\n",
    "ch_to_num = {\n",
    "    \"壹\": 1,\n",
    "    \"貳\": 2,\n",
    "    \"參\": 3,\n",
    "    \"肆\": 4,\n",
    "    \"伍\": 5,\n",
    "    \"陸\": 6,\n",
    "    \"柒\": 7,\n",
    "    \"捌\": 8,\n",
    "    \"玖\": 9,\n",
    "    \"拾\": 10,\n",
    "}\n",
    "\n",
    "for index, num in enumerate(numbers): # enumerate 會同時給出元素的序號以及元素本身\n",
    "    if num not in ch_to_num: # 如果 ch_to_num 裡面的 key 沒有 num\n",
    "        continue # 跳過這一圈\n",
    "\n",
    "    # 如果你想檢查 num 是整數的話，用 type() 可以給出變數的資料型態\n",
    "    # if type(num) == int:\n",
    "    #     continue\n",
    "\n",
    "    numbers[index] = ch_to_num[num]\n",
    "\n",
    "print(numbers)"
   ]
  },
  {
   "cell_type": "markdown",
   "metadata": {},
   "source": [
    "如果今天的情況是遇到非大寫數字時要停下整個迴圈時，可以在剛剛 `continue` 的地方改成 `break`\n",
    "\n",
    "下面程式的情境是假設使用者輸入了資料，程式要確定使用者正確輸入資料，如果不正確就要給出提示訊息。"
   ]
  },
  {
   "cell_type": "code",
   "execution_count": 25,
   "metadata": {},
   "outputs": [
    {
     "name": "stdout",
     "output_type": "stream",
     "text": [
      "[2, 5, 6, 8, 10]\n"
     ]
    }
   ],
   "source": [
    "numbers = [1, \"貳\", 3, 4, \"伍\", \"陸\", 7, \"捌\", 9, \"拾\"]\n",
    "# numbers = [\"貳\", \"伍\", \"陸\", \"捌\", \"拾\"] # 如果要是看看合法的情況就用這個 list 吧\n",
    "valid = True # 紀錄資料是否合法\n",
    "\n",
    "for index, num in enumerate(numbers):\n",
    "    if num not in ch_to_num: # 發現不合法，停下來\n",
    "        valid = False\n",
    "        print(\"不合法的數字，請重新輸入\")\n",
    "        break\n",
    "\n",
    "    numbers[index] = ch_to_num[num]\n",
    "\n",
    "if valid:\n",
    "    print(numbers)"
   ]
  },
  {
   "cell_type": "markdown",
   "metadata": {},
   "source": [
    "## 圖解 `continue` 與 `break`\n",
    "\n",
    "<img src=\"https://steam.oxxostudio.tw/webp/python/basic/loop-01.webp\" width=400>\n",
    "\n",
    "圖片來源: [重複迴圈 ( for、while )](https://steam.oxxostudio.tw/category/python/basic/loop.html)\n",
    "\n",
    "圖中的 \"下一段程式\" 指的是迴圈區塊之後的程式碼。由於 Python 強制要求 if/else 與 loop 的程式碼要縮排的特性，可以很明顯辨認有一塊程式碼的階層是否相同\n",
    "\n",
    "### `break`\n",
    "一旦在迴圈中執行時遇到 `break` 時，迴圈就會中途結束，直接跳到下一段程式裡面。\n",
    "\n",
    "下方的範例中，用 for loop 走過一次 list `integers`，並用 `print` 將 `num` 印出來。當 `num` 是 `2` 的時候，就會遇到 `break` 中斷迴圈。在迴圈結束後會印出文字 `開始下一段程式`\n"
   ]
  },
  {
   "cell_type": "code",
   "execution_count": 4,
   "metadata": {},
   "outputs": [
    {
     "name": "stdout",
     "output_type": "stream",
     "text": [
      "1\n",
      "開始下一段程式\n"
     ]
    }
   ],
   "source": [
    "integers = [1, 2, 3]\n",
    "\n",
    "for num in integers: # 迴圈內容: 開始\n",
    "    if num == 2:\n",
    "        break\n",
    "    print(num)       # 迴圈內容: 結束\n",
    "print(\"開始下一段程式\")"
   ]
  },
  {
   "cell_type": "markdown",
   "metadata": {},
   "source": [
    "當 `num` 是 `2` 的時候迴圈會遇到 `break` 終止迴圈，因此不會印出 `1` 之後的 `2`, `3`\n",
    "\n",
    "## continue\n",
    "\n",
    "相對的，當 `break` 換成 `continue` 的時候，變成跳過這次迴圈，繼續執行之後的內容。因此迴圈只是跳過 `2`，後續的 `3` 仍然會被印出來，才接到下一段程式。"
   ]
  },
  {
   "cell_type": "code",
   "execution_count": 5,
   "metadata": {},
   "outputs": [
    {
     "name": "stdout",
     "output_type": "stream",
     "text": [
      "1\n",
      "3\n",
      "開始下一段程式\n"
     ]
    }
   ],
   "source": [
    "integers = [1, 2, 3]\n",
    "\n",
    "for num in integers: # 迴圈內容: 開始\n",
    "    if num == 2:\n",
    "        continue\n",
    "    print(num)       # 迴圈內容: 結束\n",
    "print(\"開始下一段程式\")"
   ]
  }
 ],
 "metadata": {
  "kernelspec": {
   "display_name": "Python 3",
   "language": "python",
   "name": "python3"
  },
  "language_info": {
   "codemirror_mode": {
    "name": "ipython",
    "version": 3
   },
   "file_extension": ".py",
   "mimetype": "text/x-python",
   "name": "python",
   "nbconvert_exporter": "python",
   "pygments_lexer": "ipython3",
   "version": "3.9.17"
  },
  "orig_nbformat": 4
 },
 "nbformat": 4,
 "nbformat_minor": 2
}
