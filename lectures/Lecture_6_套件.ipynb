{
 "cells": [
  {
   "cell_type": "markdown",
   "metadata": {},
   "source": [
    "# 套件 Package\n",
    "Python 已經有許多人針對某些問題開發不同的套件 (package)，很多時候我們想要解決的問題可能 Google 一下就能找到人家現成的套件來解決問題。\n",
    "\n",
    "而 Python 本身也內建豐富的[**標準函式庫**](https://docs.python.org/zh-tw/3.9/library/index.html)，可能光使用他們就能解決你的問題了。\n",
    "\n",
    "\n",
    "# `import`\n",
    "如果我們要使用這些額外的功能，我們需要指定要使用的套件，不論是第三方的套件或是標準函式庫都需要，因為 import 一個函式庫可能會需要不少時間。\n",
    "\n",
    "如果我們想要印出當下的時間，標準函式庫裡 time 模組中的 [`strftime`](https://docs.python.org/zh-tw/3.9/library/time.html#time.strftime)，有兩種方式可以 import\n",
    "\n",
    "---\n",
    "#### Syntax\n",
    "1. **引入整個模組**\n",
    "    ```python\n",
    "    import time # 引入 time 模組\n",
    "\n",
    "    time.strftime(\"%c\") # 呼叫 time 模組裡面的 strftime 函式\n",
    "    ```\n",
    "\n",
    "2. **引入模組內的函式/變數**\n",
    "    ```python\n",
    "    from time import strftime # 從 time 模組引入 strftime\n",
    "\n",
    "    strftime(\"%c\") # 直接呼叫 strftime\n",
    "    ```\n",
    "---\n",
    "\n",
    "兩種做法都能夠執行函式得到同樣的結果，要使用哪種方式看個人的風格。\n",
    "\n",
    "我個人在嘗試函式功能的階段通常會直接 import 整個模組，一旦確定是使用那些函式並開發程式的時候會用第二種，讓程式碼比較簡潔。\n",
    "\n",
    "偶爾，會遇到有不同的模組使用同個函數名稱的情況，如果是 import 整個模組的話就能避免衝突問題。"
   ]
  },
  {
   "cell_type": "code",
   "execution_count": null,
   "metadata": {},
   "outputs": [],
   "source": [
    "import time\n",
    "\n",
    "time.strftime(\"%c\")"
   ]
  },
  {
   "cell_type": "code",
   "execution_count": null,
   "metadata": {},
   "outputs": [],
   "source": [
    "from time import strftime\n",
    "\n",
    "strftime(\"%x\")"
   ]
  },
  {
   "cell_type": "markdown",
   "metadata": {},
   "source": [
    "## 標準函式庫中常用的模組\n",
    "* 編程工具\n",
    "    * `itertools`: 高效率的迭代器\n",
    "    * `functolls`: 包裝已有函式\n",
    "    * `collections`: 提供更進階的容器\n",
    "    * `bisect`: 搜尋已排序容器中數值的位置\n",
    "    * `copy`: 複製容器\n",
    "* 檔案讀寫\n",
    "    * `open(file, mode=\"r\")`: 開啟檔案並讀取或寫入 (這個其實是內建函式，我們之前沒有教)\n",
    "    * `pathlib`: 以物件的方式操控目錄位置或檔案\n",
    "    * `glob`: 搜尋目錄的檔案內容\n",
    "    * `json`: 讀取/寫入 json 格式檔案\n",
    "    * `pickle`: 將物件儲存成檔案並再讀取。(不要讀取來路不明的 pickle 檔案，因為讀取的過程可能會執行程式碼)\n",
    "\n",
    "除了常用的，也有一些滿足特定需求的模組\n",
    "* 寄送電子郵件: `smtplib`\n",
    "* 撰寫電子郵件: `email`\n",
    "* 圖形使用者介面 GUI: `tkinter`\n",
    "* 執行其他程式並與 python 溝通: `subprocess`\n",
    "\n",
    "Python 的文件寫得都滿齊全的，而且也有[程式碼範例](https://docs.python.org/zh-tw/3.9/library/email.examples.html)，下面是參考範例與[學校計算機中心的資訊](https://homepage.ntu.edu.tw/~jsc/ntucc/email/mailsoftwaresetup.html)寫出來的寄 email 程式。\n"
   ]
  },
  {
   "cell_type": "code",
   "execution_count": 5,
   "metadata": {},
   "outputs": [],
   "source": [
    "from email.message import EmailMessage\n",
    "from getpass import getpass # get password\n",
    "from smtplib import SMTP_SSL\n",
    "\n",
    "\n",
    "student_id = \"B05203027\"\n",
    "# 當然還要密碼，不過不給你們看\n",
    "\n",
    "msg = EmailMessage()\n",
    "msg['subject'] = 'Re: 測試信件'\n",
    "msg['from'] = 'B05203027@ntu.edu.tw' # 兩個郵件地址都可以自己改\n",
    "msg['to'] = 'B05203027@ntu.edu.tw'\n",
    "\n",
    "\n",
    "msg.set_content(\"測試\")\n",
    "\n",
    "# 也可以改成傳送 html，寫出更 fancy 的內容\n",
    "# msg.set_content(\n",
    "#     \"\"\"\n",
    "#     <html><body>\n",
    "#     <h1> Title </h1>\n",
    "#     TEST\n",
    "#     </body></html>\n",
    "#     \"\"\",\n",
    "#     subtype='html'\n",
    "# )\n",
    "\n",
    "with SMTP_SSL('smtps.ntu.edu.tw') as server: # smtps.ntu.edu.tw 是台大郵件伺服器地址\n",
    "    server.ehlo()\n",
    "    server.login(student_id, getpass(\"請輸入台大計中帳號密碼: \"))\n",
    "    server.send_message(msg)"
   ]
  },
  {
   "cell_type": "markdown",
   "metadata": {},
   "source": [
    "再示範一個 pathlib 讀取檔案的範例"
   ]
  },
  {
   "cell_type": "code",
   "execution_count": 27,
   "metadata": {},
   "outputs": [
    {
     "name": "stdout",
     "output_type": "stream",
     "text": [
      "TEST CONTENTS\n"
     ]
    }
   ],
   "source": [
    "from pathlib import Path\n",
    "\n",
    "# 寫入檔案\n",
    "test_file = Path(\"test.txt\")\n",
    "test_file.write_text(\"TEST CONTENTS\")\n",
    "\n",
    "# 讀取檔案\n",
    "file = Path(\"test.txt\")\n",
    "print(file.read_text())"
   ]
  },
  {
   "cell_type": "markdown",
   "metadata": {},
   "source": [
    "# 第三方函式庫\n",
    "Python 中也有許多有名的第三方套件，像是之前出現過的 pandas 就是其中之一。\n",
    "\n",
    "在使用他們之前我們就需要先安裝了，安裝他們最簡單的方法是使用指令 `pip`，通常他們的文件上面都會友叫做 Installation 的部分，告訴你 pip 的指令要怎麼下才會安裝，\n",
    "通常是 `pip install <package_name>` 的格式。\n",
    "\n",
    "在 colab 的環境下要安裝可以直接在 `pip` 開頭加上 `!`來執行 pip"
   ]
  },
  {
   "cell_type": "code",
   "execution_count": 30,
   "metadata": {},
   "outputs": [
    {
     "name": "stdout",
     "output_type": "stream",
     "text": [
      "Defaulting to user installation because normal site-packages is not writeable\n",
      "Requirement already satisfied: pandas in /home/ywnien/.local/lib/python3.9/site-packages (2.0.3)\n",
      "Requirement already satisfied: python-dateutil>=2.8.2 in /home/ywnien/.local/lib/python3.9/site-packages (from pandas) (2.8.2)\n",
      "Requirement already satisfied: pytz>=2020.1 in /home/ywnien/.local/lib/python3.9/site-packages (from pandas) (2023.3)\n",
      "Requirement already satisfied: tzdata>=2022.1 in /home/ywnien/.local/lib/python3.9/site-packages (from pandas) (2023.3)\n",
      "Requirement already satisfied: numpy>=1.20.3 in /home/ywnien/.local/lib/python3.9/site-packages (from pandas) (1.24.3)\n",
      "Requirement already satisfied: six>=1.5 in /usr/lib/python3/dist-packages (from python-dateutil>=2.8.2->pandas) (1.14.0)\n",
      "\u001b[33mDEPRECATION: distro-info 0.23ubuntu1 has a non-standard version number. pip 23.3 will enforce this behaviour change. A possible replacement is to upgrade to a newer version of distro-info or contact the author to suggest that they release a version with a conforming version number. Discussion can be found at https://github.com/pypa/pip/issues/12063\u001b[0m\u001b[33m\n",
      "\u001b[0mNote: you may need to restart the kernel to use updated packages.\n"
     ]
    }
   ],
   "source": [
    "%pip install pandas"
   ]
  },
  {
   "cell_type": "markdown",
   "metadata": {},
   "source": [
    "# 數值計算相關\n",
    "## [Numpy](https://numpy.org/numpy-tutorials/)\n",
    "<img src=\"https://github.com/numpy/numpy/raw/main/branding/logo/primary/numpylogo.svg\" width=300>\n",
    "\n",
    "numpy 是 python 在進行大量計算時常用的套件，其實許多的套件都使用了它作為基礎，pandas 的底層正使用了 numpy。它提供了 array 物件，但是它是以 C 語言而非 python 撰寫的，因此能達到快速的運算。另外其提供的函式也都是針對 numpy array 進行大量快速的運算的\n",
    "\n",
    "因為常常大量使用其函式，因此 numpy 官方文件都是 import 整個函式，並為了簡便而取了一個縮寫 `np`"
   ]
  },
  {
   "cell_type": "code",
   "execution_count": 34,
   "metadata": {},
   "outputs": [
    {
     "data": {
      "text/plain": [
       "array([     0,      1,      2, ..., 999997, 999998, 999999])"
      ]
     },
     "execution_count": 34,
     "metadata": {},
     "output_type": "execute_result"
    }
   ],
   "source": [
    "import numpy as np # np 是 numpy 的 縮寫\n",
    "\n",
    "arr = np.arange(1000000) # 0 - 999999\n",
    "\n",
    "arr"
   ]
  },
  {
   "cell_type": "markdown",
   "metadata": {},
   "source": [
    "### 執行速度比較\n",
    "對於 `arr` 這個 numpy array，使用內建 `sum` 與 `np.sum` 的速度差別相當巨大，np.sum 快上許多。\n",
    "\n",
    "我個人認為執行速度緩慢的 python 能用來進行科學計算與機器學習很大部分要歸功於 numpy 的貢獻"
   ]
  },
  {
   "cell_type": "code",
   "execution_count": 35,
   "metadata": {},
   "outputs": [
    {
     "name": "stdout",
     "output_type": "stream",
     "text": [
      "76.8 ms ± 546 µs per loop (mean ± std. dev. of 7 runs, 10 loops each)\n"
     ]
    }
   ],
   "source": [
    "%%timeit\n",
    "sum(arr)"
   ]
  },
  {
   "cell_type": "code",
   "execution_count": 36,
   "metadata": {},
   "outputs": [
    {
     "name": "stdout",
     "output_type": "stream",
     "text": [
      "519 µs ± 5.72 µs per loop (mean ± std. dev. of 7 runs, 1,000 loops each)\n"
     ]
    }
   ],
   "source": [
    "%%timeit\n",
    "np.sum(arr)"
   ]
  },
  {
   "cell_type": "markdown",
   "metadata": {},
   "source": [
    "## [Scipy](https://docs.scipy.org/doc/scipy/tutorial/index.html)\n",
    "<img src=\"https://docs.scipy.org/doc/scipy/_static/logo.svg\" width=75>\n",
    "\n",
    "Scipy 也是在科學計算上常用的套件。特別如果是念理工學院，又需要數值模擬的時候會非常仰賴它。\n",
    "\n",
    "## [matplotlib](https://matplotlib.org/stable/tutorials/index.html)\n",
    "<img src=\"https://matplotlib.org/stable/_static/images/logo_dark.svg\" width=300>\n",
    "\n",
    "沒圖沒真相，想要觀察計算結果中有甚麼資訊，不透過畫圖是很難明白的。\n",
    "\n",
    "很多時候這些模組會一起使用，比如我們想看一筆訊號進行 fitting 的結果\n"
   ]
  },
  {
   "cell_type": "code",
   "execution_count": 342,
   "metadata": {},
   "outputs": [],
   "source": [
    "import matplotlib.pyplot as plt\n",
    "from scipy.optimize import curve_fit\n",
    "import numpy as np\n",
    "\n",
    "def exp(t, a, b, c):\n",
    "    \"\"\"\n",
    "    實部為 cos, 虛部為 sin 函數\n",
    "    \"\"\"\n",
    "    return a * np.exp(b * t) + c\n",
    "\n",
    "# 格點數量\n",
    "num_points = 1000\n",
    "\n",
    "# 添加 noise\n",
    "rng = np.random.default_rng()\n",
    "y_noise = 2 * rng.normal(size=num_points)\n",
    "\n",
    "# 數據，x 軸為時間，y 軸為有 noise 的訊號\n",
    "x_data = np.linspace(0, 1.5, num_points)\n",
    "y_data = exp(x_data, 1, 2, 3) + y_noise"
   ]
  },
  {
   "cell_type": "code",
   "execution_count": 343,
   "metadata": {},
   "outputs": [
    {
     "name": "stdout",
     "output_type": "stream",
     "text": [
      "a: 0.84 | b: 2.11 | c: 3.23\n"
     ]
    },
    {
     "data": {
      "image/png": "[encoded data removed]",
      "text/plain": [
       "<Figure size 640x480 with 1 Axes>"
      ]
     },
     "metadata": {},
     "output_type": "display_data"
    }
   ],
   "source": [
    "popt, pcov = curve_fit(exp, x_data, y_data)\n",
    "\n",
    "var_names = [\"a\", \"b\", \"c\"]\n",
    "print(\n",
    "    *[f\"{var_name}: {popt[i]:.2f}\" for i, var_name in enumerate(var_names)],\n",
    "    sep=\" | \"\n",
    ")\n",
    "\n",
    "plt.plot(x_data, y_data, color=\"skyblue\", label=\"raw\")\n",
    "plt.plot(x_data, exp(x_data, *popt), color=\"navy\", label=\"fit\")\n",
    "plt.legend()\n",
    "plt.title(r\"Fitting $a \\cdot e^{b \\cdot t} + c$\")\n",
    "plt.show()"
   ]
  },
  {
   "cell_type": "markdown",
   "metadata": {},
   "source": [
    "如果你對這些內容有興趣的話可以參考一下 [scipy lecture](https://lectures.scientific-python.org/)，它會很有系統性地往科學計算的方向來討論。\n",
    "\n",
    "# 機器學習相關\n",
    "## [scikit-learn](https://scikit-learn.org/stable/getting_started.html)\n",
    "![scikit-learn](https://upload.wikimedia.org/wikipedia/commons/0/05/Scikit_learn_logo_small.svg)\n",
    "\n",
    "scikit-learn 實作了許多經典機器學習模型 (SVM, Random Forest ...)，對於分類與回歸的問題 scikit-learn 往往就足夠解決了。\n",
    "\n",
    "而如果你想要嘗試音訊、圖像處理，甚至是建立語言模型等更加複雜的應用，就需要**深度學習**的套件了。目前有兩大套件在競爭 PyTorch 和 Keras/Tensorflow (幾年前 Keras 和 tensorflow 合併了)，學術界使用 PyTorch 比較廣泛，業界則是比較偏好 Tensorflow。"
   ]
  },
  {
   "cell_type": "markdown",
   "metadata": {},
   "source": [
    "# 總結\n",
    "感謝大家一個月多的參與! 如果你覺得內容很難的話不要灰心，因為我們其實教得很快。\n",
    "學校的程式課普遍都是 3 學分，我們 6 次的課程相當於只有 2 個禮拜的時數，但是我們的進度已經可以考一次期中考了。\n",
    "如果你都能掌握之前上課的內容的話那很厲害，給你鼓掌! 如果不行的話也不妨再多回顧幾次，我當初也是學得比同學慢，也許你學程式的速度其實比我還快，別輕易放棄!\n",
    "\n",
    "我對於這次課程設計的目標其實是讓大家體驗一下用 python 解決一些實際問題的經驗，彌補在傳統程式設計課為了練習語法而相對減少了問題的實用性。\n",
    "更進階的內容想要留給校內的程式班去教，所以如果你之後也修了程式課也要好好上課練習題哦\n"
   ]
  }
 ],
 "metadata": {
  "kernelspec": {
   "display_name": "Python 3",
   "language": "python",
   "name": "python3"
  },
  "language_info": {
   "codemirror_mode": {
    "name": "ipython",
    "version": 3
   },
   "file_extension": ".py",
   "mimetype": "text/x-python",
   "name": "python",
   "nbconvert_exporter": "python",
   "pygments_lexer": "ipython3",
   "version": "3.9.17"
  },
  "orig_nbformat": 4
 },
 "nbformat": 4,
 "nbformat_minor": 2
}
