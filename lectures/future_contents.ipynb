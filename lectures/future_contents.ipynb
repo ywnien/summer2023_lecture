{
 "cells": [
  {
   "attachments": {},
   "cell_type": "markdown",
   "metadata": {},
   "source": [
    "如果字串的長度非常的長，有另外兩種方式可以宣告字串\n",
    "\n",
    "---\n",
    "#### Syntax\n",
    "\n",
    "```python\n",
    "\"\"\"\n",
    "用三個引號括起來的話\n",
    " 中間的所有字都會變成字串\n",
    " 當然單引號雙引號都可以使用\n",
    "\"\"\"\n",
    "\n",
    "(\n",
    "    \"或是用小括號把字串們括起來\"\n",
    "    \" python 會把它們合併成一個字串\"\n",
    ")\n",
    "```\n",
    "---"
   ]
  },
  {
   "cell_type": "code",
   "execution_count": null,
   "metadata": {},
   "outputs": [],
   "source": [
    "long_str = \"\"\"\n",
    "\"Hello world!\" is a classic phrase used to introduce\n",
    " beginners to programming and is often the first output displayed.\n",
    "\"\"\"\n",
    "print(long_str)"
   ]
  },
  {
   "attachments": {},
   "cell_type": "markdown",
   "metadata": {},
   "source": [
    "## 索引\n",
    "索引用來存取第 n 個字元，甚至部分的字串。\n",
    "\n",
    "值得注意的是電腦是從 0 開始數，不像我們習慣從 1 開始。"
   ]
  },
  {
   "cell_type": "code",
   "execution_count": 2,
   "metadata": {},
   "outputs": [
    {
     "data": {
      "text/plain": [
       "'H'"
      ]
     },
     "execution_count": 2,
     "metadata": {},
     "output_type": "execute_result"
    }
   ],
   "source": [
    "word = \"Hello World!\"\n",
    "word[0]"
   ]
  },
  {
   "cell_type": "markdown",
   "metadata": {},
   "source": [
    "如果是要存取第 1 個到第 5 個字，也就是 `'Hello'`的話"
   ]
  },
  {
   "cell_type": "code",
   "execution_count": 3,
   "metadata": {},
   "outputs": [
    {
     "data": {
      "text/plain": [
       "'Hello'"
      ]
     },
     "execution_count": 3,
     "metadata": {},
     "output_type": "execute_result"
    }
   ],
   "source": [
    "word[0:5] # 用冒號把 0 和 5 隔開\n",
    "word[:5]  # 如果起始是 0 的話是允許省略的"
   ]
  },
  {
   "attachments": {},
   "cell_type": "markdown",
   "metadata": {},
   "source": [
    "你可能發現 `word[5]` 是空格而不是 `'o'`，其實 python 理解 `word[0:5]` 的方式是: **從第 0 個字開始數，數到 5 的時候停止**"
   ]
  },
  {
   "attachments": {},
   "cell_type": "markdown",
   "metadata": {},
   "source": [
    "## 「`in` 運算子」\n",
    "如果有 `element` 和 `L` 兩個變數，`L` 是一個 `list`，使用「in 運算子」可以判斷 `L` 是否裝了 `element`"
   ]
  },
  {
   "cell_type": "code",
   "execution_count": null,
   "metadata": {},
   "outputs": [],
   "source": [
    "taiwan_fruits = ['梅子', '西瓜', '李子', '芒果', '枇杷', '草莓',\n",
    "                 '荔枝', '紅龍果', '桃子', '梨子', '葡萄', '酪梨',\n",
    "                 '龍眼', '西瓜', '李子', '芒果', '荔枝', '文旦柚',\n",
    "                 '柿子', '洛神', '紅龍果', '百香果', '芒果', '梨子',\n",
    "                 '酪梨', '金棗', '柑橘', '番茄', '蜜棗', '柳丁', '柿子', '草莓']\n",
    "print(\"台灣有產蘋果嗎？\", \"蘋果\" in taiwan_fruits)\n",
    "print(\"台灣有產酪梨嗎？\", \"酪梨\" in taiwan_fruits)"
   ]
  }
 ],
 "metadata": {
  "kernelspec": {
   "display_name": "Python 3",
   "language": "python",
   "name": "python3"
  },
  "language_info": {
   "codemirror_mode": {
    "name": "ipython",
    "version": 3
   },
   "file_extension": ".py",
   "mimetype": "text/x-python",
   "name": "python",
   "nbconvert_exporter": "python",
   "pygments_lexer": "ipython3",
   "version": "3.9.17"
  },
  "orig_nbformat": 4
 },
 "nbformat": 4,
 "nbformat_minor": 2
}
