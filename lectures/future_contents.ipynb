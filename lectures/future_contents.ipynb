{
 "cells": [
  {
   "attachments": {},
   "cell_type": "markdown",
   "metadata": {},
   "source": [
    "如果字串的長度非常的長，有另外兩種方式可以宣告字串\n",
    "\n",
    "---\n",
    "#### Syntax\n",
    "\n",
    "```python\n",
    "\"\"\"\n",
    "用三個引號括起來的話\n",
    " 中間的所有字都會變成字串\n",
    " 當然單引號雙引號都可以使用\n",
    "\"\"\"\n",
    "\n",
    "(\n",
    "    \"或是用小括號把字串們括起來\"\n",
    "    \" python 會把它們合併成一個字串\"\n",
    ")\n",
    "```\n",
    "---"
   ]
  },
  {
   "cell_type": "code",
   "execution_count": null,
   "metadata": {},
   "outputs": [],
   "source": [
    "long_str = \"\"\"\n",
    "\"Hello world!\" is a classic phrase used to introduce\n",
    " beginners to programming and is often the first output displayed.\n",
    "\"\"\"\n",
    "print(long_str)"
   ]
  },
  {
   "attachments": {},
   "cell_type": "markdown",
   "metadata": {},
   "source": [
    "## 索引\n",
    "索引用來存取第 n 個字元，甚至部分的字串。\n",
    "\n",
    "值得注意的是電腦是從 0 開始數，不像我們習慣從 1 開始。"
   ]
  },
  {
   "cell_type": "code",
   "execution_count": 2,
   "metadata": {},
   "outputs": [
    {
     "data": {
      "text/plain": [
       "'H'"
      ]
     },
     "execution_count": 2,
     "metadata": {},
     "output_type": "execute_result"
    }
   ],
   "source": [
    "word = \"Hello World!\"\n",
    "word[0]"
   ]
  },
  {
   "cell_type": "markdown",
   "metadata": {},
   "source": [
    "如果是要存取第 1 個到第 5 個字，也就是 `'Hello'`的話"
   ]
  },
  {
   "cell_type": "code",
   "execution_count": 3,
   "metadata": {},
   "outputs": [
    {
     "data": {
      "text/plain": [
       "'Hello'"
      ]
     },
     "execution_count": 3,
     "metadata": {},
     "output_type": "execute_result"
    }
   ],
   "source": [
    "word[0:5] # 用冒號把 0 和 5 隔開\n",
    "word[:5]  # 如果起始是 0 的話是允許省略的"
   ]
  },
  {
   "attachments": {},
   "cell_type": "markdown",
   "metadata": {},
   "source": [
    "你可能發現 `word[5]` 是空格而不是 `'o'`，其實 python 理解 `word[0:5]` 的方式是: **從第 0 個字開始數，數到 5 的時候停止**"
   ]
  },
  {
   "attachments": {},
   "cell_type": "markdown",
   "metadata": {},
   "source": [
    "## 「`in` 運算子」\n",
    "如果有 `element` 和 `L` 兩個變數，`L` 是一個 `list`，使用「in 運算子」可以判斷 `L` 是否裝了 `element`"
   ]
  },
  {
   "cell_type": "code",
   "execution_count": null,
   "metadata": {},
   "outputs": [],
   "source": [
    "taiwan_fruits = ['梅子', '西瓜', '李子', '芒果', '枇杷', '草莓',\n",
    "                 '荔枝', '紅龍果', '桃子', '梨子', '葡萄', '酪梨',\n",
    "                 '龍眼', '西瓜', '李子', '芒果', '荔枝', '文旦柚',\n",
    "                 '柿子', '洛神', '紅龍果', '百香果', '芒果', '梨子',\n",
    "                 '酪梨', '金棗', '柑橘', '番茄', '蜜棗', '柳丁', '柿子', '草莓']\n",
    "print(\"台灣有產蘋果嗎？\", \"蘋果\" in taiwan_fruits)\n",
    "print(\"台灣有產酪梨嗎？\", \"酪梨\" in taiwan_fruits)"
   ]
  },
  {
   "cell_type": "markdown",
   "metadata": {},
   "source": []
  },
  {
   "cell_type": "markdown",
   "metadata": {},
   "source": [
    "## list 的方法 (method)\n",
    "\n",
    "方法 (method) 與函式很相似，一樣是接收參數並執行某些事情，但不同之處在於方法也已經指定要進行操作的物件。\\\n",
    "比如說我們一開始寫的\n",
    "> ```python\n",
    "> fruits.append(\"apple\")\n",
    "> ```\n",
    "我們知道 `append` 可以新增元素，`\"apple\"` 是要被加入的元素，而前面的 `fruits` 就是我們要操作的物件。\n",
    "\n",
    "### 簡單的整理\n",
    "更詳細可以參考[官方的資料結構文件](https://docs.python.org/3.9/tutorial/datastructures.html)\n",
    "\n",
    "**註: `list.pop([i])` 的中括號 `[]` 在這裡是指裡面的參數 `i` 可以省略不寫，會有預設的行為**\n",
    "\n",
    "| 方法名稱 | 說明 |\n",
    "| --- | --- |\n",
    "| **`list.append(x)`** | 新增 `x` 到 list 的尾端 |\n",
    "| **`list.pop([i])`** | 移除索引為 `i` 的元素，並回傳。省略 `i` 時移除最尾端的元素 |\n",
    "| **`list.sort()`** | 將 list 中的項目由小到大排序 |\n",
    "| `list.count(x)` | 回傳 `x` 在 list 中所出現的次數 |\n",
    "| `list.index(x[, start[, end]])` | 回傳 list 中第一個值等於 `x` 的項目之索引值。 `start` 和 `end` 用來指定搜尋的範圍 |\n",
    "| `list.copy()` | 複製一份 list。等同於 `a[:]` |"
   ]
  },
  {
   "cell_type": "markdown",
   "metadata": {},
   "source": [
    "## str 的方法\n",
    "\n",
    "常常我們讀取檔案、讀取輸入的時候資料型態都是字串。在 python 中字串已經內建轉換成 list 的方法，而且比 C/C++ 方便很多很多!\n",
    "\n",
    "\n",
    "### `str.split(sep)`\n",
    "如果今天有一字串是 `\"紅茶拿鐵,微糖,去冰,珍珠\"`，我們要怎麼把它分成一個 list `[\"紅茶拿鐵\", \"微糖\", \"去冰\", \"珍珠\"]`?\n",
    "\n",
    "觀察一下，發現這個字串其實是以 `,` 作為分隔符將資料隔開的，所以將 `sep` 設成 `,` 就可以了!"
   ]
  },
  {
   "cell_type": "code",
   "execution_count": null,
   "metadata": {},
   "outputs": [],
   "source": [
    "drink_info = \"紅茶拿鐵,微糖,去冰,珍珠\"\n",
    "drink_info.split(\",\")"
   ]
  },
  {
   "cell_type": "markdown",
   "metadata": {},
   "source": [
    "### `str.splitlines()`\n",
    "除了 `,` 是常用的分隔符之外，其實換行也是會有一個字的，常見是 `\\n` 或 `\\r\\n`，但還有很多種。\n",
    "\n",
    "所以 `str.split` 還有一個變體 `str.splitlines()`，直接幫你一行一行切好。"
   ]
  },
  {
   "cell_type": "code",
   "execution_count": null,
   "metadata": {},
   "outputs": [],
   "source": [
    "sentence = (\n",
    "    \"Hello\\n\"\n",
    "    \"World\\n\"\n",
    "    \"!\"\n",
    ")\n",
    "print(sentence)\n",
    "print(sentence.splitlines())"
   ]
  },
  {
   "cell_type": "code",
   "execution_count": null,
   "metadata": {},
   "outputs": [],
   "source": [
    "出師表 = \"臣 本 布 衣 ， 躬 耕 於 南 陽 ， 苟 全 性 命 於 亂 世 ， 不 求 聞 達 於 諸 侯 。 先 帝 不 以 臣 卑 鄙 ， 猥 自 枉 屈 ， 三 顧 臣 於 草 廬 之 中 ， 諮 臣 以 當 世 之 事 ； 由 是 感 激 ， 遂 許 先 帝 以 驅 馳 。\"\n",
    "出師表_拆解 = 出師表.split(' ') # 以空白符號拆解這個字串\n",
    "print(\"根據空白拆解：\")\n",
    "print(出師表_拆解)\n",
    "\n",
    "print(\"----------------------\")\n",
    "出師表_合起來 = \"\".join(出師表_拆解) # 用空的字串合起來\n",
    "print(\"再合起來：\")\n",
    "print(出師表_合起來)\n",
    "\n",
    "print(\"----------------------\")\n",
    "出師表_句子 = 出師表_合起來.split('。') # 以空白符號拆解這個字串\n",
    "print(\"共拆解成\" + str(len(出師表_句子)) + \"個句子：\")\n",
    "print(\"句子1： \" + 出師表_句子[0])\n",
    "print(\"句子2： \" + 出師表_句子[1])\n",
    "print(\"句子3： \" + 出師表_句子[2])\n",
    "print(出師表_句子)"
   ]
  },
  {
   "cell_type": "code",
   "execution_count": null,
   "metadata": {},
   "outputs": [],
   "source": [
    "# 蕭敬騰確診在家，晚上十一點想吃宵夜...\n",
    "今晚來點什麼 = []\n",
    "今晚來點什麼.append('白玉歐蕾去冰')\n",
    "print('蕭敬騰今晚想訂:', 今晚來點什麼)\n",
    "今晚來點什麼.append('滷肉飯加蛋')\n",
    "print('蕭敬騰今晚想訂:', 今晚來點什麼)\n",
    "\n",
    "今晚來點什麼.append('豬肝炒麵')\n",
    "print('蕭敬騰今晚想訂:', 今晚來點什麼)\n",
    "\n",
    "# 盧廣仲很阿莎莉的說：\n",
    "print('廣仲說：沒問題，總共' + str(len(今晚來點什麼)) + '項，我請客！')\n",
    "\n",
    "# 盧廣仲加點：\n",
    "今晚來點什麼.append('阜杭豆漿')"
   ]
  }
 ],
 "metadata": {
  "kernelspec": {
   "display_name": "Python 3",
   "language": "python",
   "name": "python3"
  },
  "language_info": {
   "codemirror_mode": {
    "name": "ipython",
    "version": 3
   },
   "file_extension": ".py",
   "mimetype": "text/x-python",
   "name": "python",
   "nbconvert_exporter": "python",
   "pygments_lexer": "ipython3",
   "version": "3.9.17"
  },
  "orig_nbformat": 4
 },
 "nbformat": 4,
 "nbformat_minor": 2
}
