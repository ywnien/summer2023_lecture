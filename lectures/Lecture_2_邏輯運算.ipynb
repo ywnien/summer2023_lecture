{
  "cells": [
    {
      "attachments": {},
      "cell_type": "markdown",
      "metadata": {
        "id": "E62HgyhOyvo8"
      },
      "source": [
        "# 布林變數 (boolean)\n",
        "程式語言不只是能計算而已，也能夠判斷描述是否為真，比如判斷一個數值是否大於 0\n",
        "\n",
        "結果只有 `True` or `False` (記得開頭要**大寫**)"
      ]
    },
    {
      "cell_type": "code",
      "execution_count": 1,
      "metadata": {},
      "outputs": [
        {
          "data": {
            "text/plain": [
              "True"
            ]
          },
          "execution_count": 1,
          "metadata": {},
          "output_type": "execute_result"
        }
      ],
      "source": [
        "num = 1\n",
        "num > 0"
      ]
    },
    {
      "cell_type": "code",
      "execution_count": 2,
      "metadata": {},
      "outputs": [
        {
          "data": {
            "text/plain": [
              "False"
            ]
          },
          "execution_count": 2,
          "metadata": {},
          "output_type": "execute_result"
        }
      ],
      "source": [
        "num = -1\n",
        "num > 0"
      ]
    },
    {
      "attachments": {},
      "cell_type": "markdown",
      "metadata": {
        "id": "43dz2PFhT_H6"
      },
      "source": [
        "# 邏輯運算\n",
        "\n",
        "## 比較運算子\n",
        "下列運算的結果也一樣只會是 `True` or `False`\n",
        "\n",
        "| 運算子 | 說明                          | 範例   |\n",
        "|-------|------------------------------|--------|\n",
        "| `>`   | 大於 ( `a` 是否大於 `b` )         | `a > b`  |\n",
        "| `<`   | 小於 ( `a` 是否小於 `b` )         | `a < b`  |\n",
        "| `>=`  | 大於等於 ( `a` 是否大於等於 `b` )  | `a >= b` |\n",
        "| `<=`  | 小於等於 ( `a` 是否小於等於 `b` )  | `a <= b` |\n",
        "| `==`  | 等於 ( `a` 是否等於 `b` )         | `a == b` |\n",
        "| `!=`  | 不等於 ( `a` 是否不等於 `b` )      | `a != b` |\n",
        "\n",
        "**注意**：\n",
        "`=` 跟 `==` 不一樣喔！\n",
        "\n",
        "* `a = b` 的意思是：把 `b` 的值塞進 `a`\n",
        "* `a == b` 的意思是：`a` 是否等於 `b` 呢？"
      ]
    },
    {
      "cell_type": "code",
      "execution_count": 10,
      "metadata": {
        "colab": {
          "base_uri": "https://localhost:8080/"
        },
        "id": "ySZQ1tNi366o",
        "outputId": "fae09bbf-dadf-429a-a540-3064e83dfdfe"
      },
      "outputs": [
        {
          "name": "stdout",
          "output_type": "stream",
          "text": [
            "我們是同鄉: False\n",
            "我們不是同鄉: True\n"
          ]
        }
      ],
      "source": [
        "my_hometown = \"彰化市\"\n",
        "your_hometown = \"台北市\"\n",
        "\n",
        "print(\"我們是同鄉:\", my_hometown == your_hometown)\n",
        "print(\"我們不是同鄉:\", my_hometown != your_hometown)"
      ]
    },
    {
      "attachments": {},
      "cell_type": "markdown",
      "metadata": {
        "id": "leeR80MsWJbC"
      },
      "source": [
        "## 邏輯運算子\n",
        "### 而且：`and`\n",
        "兩邊都要是 `True`，才會輸出 `True`。\n",
        "```python\n",
        ">>> True and False\n",
        "False\n",
        ">>> False and True\n",
        "False\n",
        ">>> True and True\n",
        "True\n",
        ">>> False and False\n",
        "False\n",
        "```\n",
        "\n",
        "當 `a` 是 `True`，`b` 也是 `True`，結果就是 `True`。但只要 `a`、`b` 其中一個是 `False`，結果就是 `False`。"
      ]
    },
    {
      "cell_type": "code",
      "execution_count": 5,
      "metadata": {},
      "outputs": [
        {
          "name": "stdout",
          "output_type": "stream",
          "text": [
            "num 介於 0 到 100 之間: True\n"
          ]
        }
      ],
      "source": [
        "num = 50\n",
        "print(\"num 介於 0 到 100 之間:\", num >= 0 and num <= 100)"
      ]
    },
    {
      "attachments": {},
      "cell_type": "markdown",
      "metadata": {},
      "source": [
        "### 或者：`or`\n",
        "兩邊只要有一個 `True`，就是 `True`。\n",
        "```python\n",
        ">>> True or False\n",
        "True\n",
        ">>> False or True\n",
        "True\n",
        ">>> True or True\n",
        "True\n",
        ">>> False or False\n",
        "False\n",
        "```"
      ]
    },
    {
      "cell_type": "code",
      "execution_count": 7,
      "metadata": {
        "colab": {
          "base_uri": "https://localhost:8080/"
        },
        "id": "k9ZhVZwuWx8c",
        "outputId": "98f2e7c4-7c47-40d0-8797-a999ea8bad30"
      },
      "outputs": [
        {
          "name": "stdout",
          "output_type": "stream",
          "text": [
            "num 在 0 到 100 之外: True\n"
          ]
        }
      ],
      "source": [
        "num = 705\n",
        "print(\"num 在 0 到 100 之外:\", num < 0 or num > 100)"
      ]
    },
    {
      "attachments": {},
      "cell_type": "markdown",
      "metadata": {},
      "source": [
        "### 不：`not`\n",
        "讓布林值相反，因此如果寫 `not True`/`not False` 就會給出 `False`/`True`\n",
        "```python\n",
        ">>> not True\n",
        "False\n",
        ">>> not False\n",
        "True\n",
        "```"
      ]
    },
    {
      "cell_type": "code",
      "execution_count": 9,
      "metadata": {
        "colab": {
          "base_uri": "https://localhost:8080/"
        },
        "id": "ZjgqrADaWsPQ",
        "outputId": "cf3c4dd9-3957-4d40-9931-1ef596048c9c"
      },
      "outputs": [
        {
          "name": "stdout",
          "output_type": "stream",
          "text": [
            "尚未繳費: True\n"
          ]
        }
      ],
      "source": [
        "paid = False\n",
        "print(\"尚未繳費:\", not paid)"
      ]
    },
    {
      "attachments": {},
      "cell_type": "markdown",
      "metadata": {
        "id": "F4sYk-J9aMG3"
      },
      "source": [
        "## 邏輯判斷 ( if、elif、else )\n",
        "\n",
        "「`if`」判斷就如同字面的意思：「如果怎樣...就怎樣...」\n",
        "\n",
        "---\n",
        "#### Syntax\n",
        "```python\n",
        "if condition_1:\n",
        "    # 如果 if 後面的 condition 是 True 就執行這區塊的內容\n",
        "    # 並且 elif, else 內的程式碼不會被執行\n",
        "elif condition_2:\n",
        "    # 如果 elif 後面是 True 就執行，一樣不會執行 else\n",
        "    # 註: 只有 condition_1 是 False 的情況才會考慮到這邊\n",
        "else:\n",
        "    # 如果 condition_1 condition_2 都是 False 的話程式才會執行到這邊\n",
        "```\n",
        "---\n",
        "\n",
        "當邏輯判斷式是 `True` 的時候執行 `if` 區塊的程式碼，當邏輯判斷式為 `False` 的時候執行 `else` 的程式碼。而 `elif` 則是 else if 的縮寫。\n",
        "\n",
        "<img src=https://steam.oxxostudio.tw/webp/python/basic/if-02.webp width=\"300\"/>\n",
        "\n",
        "[圖片來源](https://steam.oxxostudio.tw/category/python/basic/if.html)\n",
        "\n",
        "⭐ 在 `if` / `elif` / `else` 後面記得要**加上冒號 `:`** 以進入下一個程式區塊\n",
        "\n",
        "在 Python 中，程式碼的分區是以 \"縮排\" 來區分的，慣例上會以 4 格空格縮排。當縮排的空格長度不一樣的時候，表示程式碼處於不同的分區。\\\n",
        "在 colab 按下 TAB 會空出 4 格空格，需要縮排的時候只要按一下 TAB 就可以了。\n",
        "\n",
        "### 簡單的例子\n",
        "以天氣來判斷我們要收衣服還是晾衣服。"
      ]
    },
    {
      "cell_type": "code",
      "execution_count": 7,
      "metadata": {},
      "outputs": [],
      "source": [
        "weather = \"sunny\""
      ]
    },
    {
      "cell_type": "code",
      "execution_count": 5,
      "metadata": {},
      "outputs": [],
      "source": [
        "# 使用 input 輸入不同的值\n",
        "weather = input(\"weather: \")"
      ]
    },
    {
      "cell_type": "code",
      "execution_count": 8,
      "metadata": {},
      "outputs": [
        {
          "name": "stdout",
          "output_type": "stream",
          "text": [
            "晾衣服\n"
          ]
        }
      ],
      "source": [
        "if weather == \"sunny\": # 如果是晴天\n",
        "    print(\"晾衣服\")\n",
        "elif weather == \"rainy\": # 如果是雨天\n",
        "    print(\"收衣服\")\n",
        "else: # 其他情形\n",
        "    print(\"窩不知道\")"
      ]
    },
    {
      "attachments": {},
      "cell_type": "markdown",
      "metadata": {},
      "source": [
        "#### 補充: `input()`\n",
        "其實 `input()` 我把它放在補充的原因是因為不用它也可以指定變數 (自己寫的 code 自己一定知道要改哪裡的)，但既然用了的話就還是稍微介紹吧\n",
        "* `input(\"這裡寫你要提示的訊息\")`: `input` 接受的參數是你要提示的訊息\n",
        "* 從 `input()` 得到的變數的資料型態是字串 `str`\n",
        "    * 要讓它變成數字的話只要用 `int()`/`float()` 轉型就好\n",
        "    * 但是要變成 `True` or `False` 不能直接轉，下面的例子會示範該怎麼做\n",
        "\n",
        "### 再複雜一點\n",
        "當然面對更複雜的情況時，`and` 還有 `or` 也能夠放在 `if`/`else` 裡面\n",
        "\n",
        "而且上面的例子有點太理想了，通常是因為有衣服才需要曬，根據天氣不同而有不同行為。下面的例子我們需要考慮兩個問題做出不同選擇:\n",
        "1. 有沒有衣服晾在外面\n",
        "2. 有沒有洗好的衣服\n",
        "\n",
        "這兩個問題會影響要不要收衣服，要不要晾衣服，或因應雨天有其他的行為 (做出的動作一律用印出字串代替)\n",
        "* 沒有洗好的衣服的話就不用做任何事情\n",
        "* 如果有洗好的衣服就要把晾著的衣服收下來 (不然沒地方晾)\n",
        "    * 雨天的話收下來的衣服要開除濕機除濕\n",
        "    * 雨天的話晾的衣服需要開電風扇吹乾"
      ]
    },
    {
      "cell_type": "code",
      "execution_count": 68,
      "metadata": {},
      "outputs": [],
      "source": [
        "weather = \"rainy\"\n",
        "clothes_outside = True # 有沒有衣服晾在外面\n",
        "washed_clothes = True # 有沒有洗好的衣服"
      ]
    },
    {
      "cell_type": "code",
      "execution_count": 53,
      "metadata": {},
      "outputs": [],
      "source": [
        "# 可以自己輸入各種情況!\n",
        "weather = input(\"weather: \")\n",
        "\n",
        "if input(\"clothes_outside: \") == \"y\":\n",
        "    clothes_outside = True\n",
        "else:\n",
        "    clothes_outside = False\n",
        "\n",
        "if input(\"washed_clothes: \") == \"y\":\n",
        "    washed_clothes = True\n",
        "else:\n",
        "    washed_clothes = False"
      ]
    },
    {
      "cell_type": "code",
      "execution_count": 69,
      "metadata": {
        "colab": {
          "base_uri": "https://localhost:8080/"
        },
        "id": "20i33zcic-ws",
        "outputId": "eee8111f-299e-43c3-c129-c24a191242a5"
      },
      "outputs": [
        {
          "name": "stdout",
          "output_type": "stream",
          "text": [
            "收衣服\n",
            "衣服還有點濕...掛在室內除濕吧\n",
            "晾衣服\n",
            "開電扇，希望趕快乾\n",
            "____ 場地狀況 ____\n",
            "曬衣場使用中: True\n",
            "還沒曬的衣服: False\n"
          ]
        }
      ],
      "source": [
        "# 檢查不合法的 weather\n",
        "if weather != \"sunny\" and weather != \"rainy\":\n",
        "    print(\"不合法的天氣，假設是 rainy\") # 台北總是愛下雨\n",
        "    weather = \"rainy\"\n",
        "\n",
        "# 要把已經晾過的衣服收起來才能再晾衣服\n",
        "if washed_clothes and clothes_outside:\n",
        "    print(\"收衣服\")\n",
        "    clothes_outside = False\n",
        "    if weather == \"rainy\": # 在雨天常見衣服沒乾的情況，需要除濕機幫助\n",
        "        print(\"衣服還有點濕...掛在室內除濕吧\")\n",
        "\n",
        "# 有洗好的衣服才需要晾\n",
        "if washed_clothes:\n",
        "    print(\"晾衣服\")\n",
        "    clothes_outside = True\n",
        "    washed_clothes = False\n",
        "    if weather == \"rainy\": # 雨天會有額外步驟\n",
        "        print(\"開電扇，希望趕快乾\")\n",
        "\n",
        "print(\"____ 場地狀況 ____\")\n",
        "print(\"曬衣場使用中:\", clothes_outside)\n",
        "print(\"還沒曬的衣服:\", washed_clothes)\n"
      ]
    },
    {
      "attachments": {},
      "cell_type": "markdown",
      "metadata": {
        "id": "s6oLh7NYcynl"
      },
      "source": [
        "程式區塊可以有好幾層，在同一層縮排的程式碼屬於同一區塊。上面的例子中可以看到有 `if` 在一段 `if` 的程式碼裡面，而當外面的 `if` 是 `False` 的話，裡面的程式碼，包含裡面的 `if` 都不會被執行。\n",
        "\n",
        "另外，我猜大家對於上面的問題敘述所想出的寫法可能不太一樣。事實上他可以有很多寫法，就我自己的觀點的話我認為可讀性是最重要的 (因為目前我們的計算量不大)，前提是有正確的 code。因此不管如何 **正確的 code 才是好 code**，大家應該優先思考的是 *有沒有 bug?* 以及 *還有沒有某些情況沒考慮到?*"
      ]
    },
    {
      "attachments": {},
      "cell_type": "markdown",
      "metadata": {},
      "source": [
        "# list 串列\n",
        "\n",
        "當我們的變數很多的時候就不適合一個一個宣告變數了，有一個容器把他們集中會更好管理，`list` 可以完成這個任務\n",
        "\n",
        "---\n",
        "#### Syntax\n",
        "\n",
        "```python\n",
        "sample_list = [1, 2, 3, \"字串與數字裝在一起也可以\"]\n",
        "\n",
        "long_elements = [\n",
        "    1,\n",
        "    2,\n",
        "    \"也可以這樣寫，雖然很占版面\",\n",
        "    \"但是更好閱讀，改起來也方便\"\n",
        "]\n",
        "```\n",
        "---\n",
        "\n",
        "**記得一樣要用逗號 `,` 將變數隔開**"
      ]
    },
    {
      "cell_type": "code",
      "execution_count": 70,
      "metadata": {},
      "outputs": [
        {
          "name": "stdout",
          "output_type": "stream",
          "text": [
            "[1, 2.0, '我是字串']\n",
            "['如果很長的話直著寫會比較清楚', '很多編輯器有刪除整行或移動整行的功能', '所以運用這些功能的話直著寫會更好改']\n"
          ]
        }
      ],
      "source": [
        "sample_list = [1, 2.0, \"我是字串\"]\n",
        "print(sample_list) # 一樣可以用 print 印出來\n",
        "\n",
        "long_elements = [\n",
        "    \"如果很長的話直著寫會比較清楚\",\n",
        "    \"很多編輯器有刪除整行或移動整行的功能\",\n",
        "    \"所以運用這些功能的話直著寫會更好改\",\n",
        "]\n",
        "print(long_elements)"
      ]
    },
    {
      "attachments": {},
      "cell_type": "markdown",
      "metadata": {},
      "source": [
        "### 如果中括號沒有寫齊\n",
        "會引發 `SyntaxError`，EOF 指的是文件的結尾 (**E**nd **O**f **F**ile)、parsing 是分析、解析程式碼的位置與意義，也就是 Python 在讀 code。Python 讀 code 遇到左括號 (`(`, `[`, `{`) 會一直往後找，直到找到右括號，因此 `unexpected EOF while parsing` 的意思是 python 還沒找到右括號的時候程式碼就遇到 EOF，沒有後續的文字了。"
      ]
    },
    {
      "cell_type": "code",
      "execution_count": 61,
      "metadata": {},
      "outputs": [
        {
          "ename": "SyntaxError",
          "evalue": "unexpected EOF while parsing (758611465.py, line 1)",
          "output_type": "error",
          "traceback": [
            "\u001b[0;36m  Cell \u001b[0;32mIn[61], line 1\u001b[0;36m\u001b[0m\n\u001b[0;31m    [1, 2, 3\u001b[0m\n\u001b[0m            ^\u001b[0m\n\u001b[0;31mSyntaxError\u001b[0m\u001b[0;31m:\u001b[0m unexpected EOF while parsing\n"
          ]
        }
      ],
      "source": [
        "[1, 2, 3"
      ]
    },
    {
      "attachments": {},
      "cell_type": "markdown",
      "metadata": {},
      "source": [
        "另外，也是因為遇到括號的時候 python 會找到右括號為止而不是換行為止，原本上不能跨行的程式碼就變得可以用很多行寫下來了\n",
        "\n",
        "```python\n",
        "# 跨行並不是可以這樣寫的意思哦\n",
        "[\n",
        "    \"很長的字串\",\n",
        "    \"可以跨行\n",
        "    好開心\"\n",
        "]\n",
        "```\n",
        "\n",
        "關於字串還有一些細節，之後會花一節課說明"
      ]
    },
    {
      "cell_type": "code",
      "execution_count": 62,
      "metadata": {},
      "outputs": [
        {
          "ename": "SyntaxError",
          "evalue": "EOL while scanning string literal (3081502349.py, line 4)",
          "output_type": "error",
          "traceback": [
            "\u001b[0;36m  Cell \u001b[0;32mIn[62], line 4\u001b[0;36m\u001b[0m\n\u001b[0;31m    \"可以跨行\u001b[0m\n\u001b[0m         ^\u001b[0m\n\u001b[0;31mSyntaxError\u001b[0m\u001b[0;31m:\u001b[0m EOL while scanning string literal\n"
          ]
        }
      ],
      "source": [
        "# 不可以這樣寫哦\n",
        "[\n",
        "    1,\n",
        "    \"可以跨行\n",
        "    好開心!\"\n",
        "]"
      ]
    },
    {
      "attachments": {},
      "cell_type": "markdown",
      "metadata": {},
      "source": [
        "## 取出元素\n",
        "\n",
        "如果想要取出 list 當中的第一個元素，在變數的後方加上中括號`[0]`，第二個是 `[1]`，以此類推。\n",
        "\n",
        "**記得是從 0 開始數哦**"
      ]
    },
    {
      "cell_type": "code",
      "execution_count": 71,
      "metadata": {},
      "outputs": [
        {
          "name": "stdout",
          "output_type": "stream",
          "text": [
            "1\n",
            "2.0\n",
            "我是字串\n"
          ]
        }
      ],
      "source": [
        "print(sample_list[0]) # 電腦從 0 開始數哦\n",
        "print(sample_list[1])\n",
        "print(sample_list[2])"
      ]
    },
    {
      "attachments": {},
      "cell_type": "markdown",
      "metadata": {},
      "source": [
        "## 更改元素\n",
        "一樣可以用 `=` 賦值"
      ]
    },
    {
      "cell_type": "code",
      "execution_count": 72,
      "metadata": {},
      "outputs": [
        {
          "name": "stdout",
          "output_type": "stream",
          "text": [
            "[1, 2.0, '我是字串']\n",
            "[10.0, 2.0, '我是字串']\n"
          ]
        }
      ],
      "source": [
        "print(sample_list)\n",
        "\n",
        "sample_list[0] = (sample_list[0] ** 0.5) * 10 # 開根號乘以10\n",
        "print(sample_list)"
      ]
    },
    {
      "attachments": {},
      "cell_type": "markdown",
      "metadata": {},
      "source": [
        "## 新增元素 `list.append()`\n",
        "\n",
        "面對更多的資料時非常常用! 首先你要有一個已經存在的 list，這裡叫他 `sample_list`\n",
        "\n",
        "---\n",
        "#### Syntax\n",
        "```python\n",
        "sample_list = [] # list 可以是空的，之前沒有特別強調\n",
        "sample_list.append(1) # 1 可以換成其他你想要的值、變數\n",
        "sample_list.append(\"list 不會限定你要哪種資料型態\")\n",
        "```\n",
        "---\n",
        "\n",
        "這裡很特別的是函式跟在一個 list 後面，而且輸入的變數只有你想新增的元素，不需要再次指定說我要加到 `sample_list` 裡面。\n",
        "\n",
        "再次強調，list 內的元素不需要是同個資料型態，這點讓 python 可以有很多的彈性"
      ]
    },
    {
      "cell_type": "code",
      "execution_count": 67,
      "metadata": {},
      "outputs": [
        {
          "name": "stdout",
          "output_type": "stream",
          "text": [
            "[]\n",
            "[1]\n",
            "[1, 'list 不會限定你要哪種資料型態']\n"
          ]
        }
      ],
      "source": [
        "sample_list = []\n",
        "print(sample_list)\n",
        "\n",
        "sample_list.append(1)\n",
        "print(sample_list)\n",
        "\n",
        "sample_list.append(\"list 不會限定你要哪種資料型態\")\n",
        "print(sample_list)"
      ]
    },
    {
      "attachments": {},
      "cell_type": "markdown",
      "metadata": {},
      "source": [
        "## 內建函式 built-in functions\n",
        "* 計算總和 `sum()`\n",
        "* 最大值 `max()`\n",
        "* 最小值 `min()`\n",
        "* 幾個變數 `len()` (可以用來求平均)"
      ]
    },
    {
      "cell_type": "code",
      "execution_count": 63,
      "metadata": {},
      "outputs": [
        {
          "name": "stdout",
          "output_type": "stream",
          "text": [
            "7/01 餐費\n",
            "最高: 145\n",
            "最低: 75\n",
            "總計: 320\n",
            "平均: 106.66666666666667\n"
          ]
        }
      ],
      "source": [
        "food_expenses = [145, 75, 100] # 三餐的費用\n",
        "print(\"7/01 餐費\")\n",
        "print(\"最高:\", max(food_expenses)) # 直接把 list 塞進函式即可\n",
        "print(\"最低:\", min(food_expenses))\n",
        "print(\"總計:\", sum(food_expenses))\n",
        "print(\"平均:\", sum(food_expenses) / len(food_expenses))"
      ]
    },
    {
      "attachments": {},
      "cell_type": "markdown",
      "metadata": {},
      "source": [
        "#### 補充: 這個平均好多位數啊...\n",
        "`round(values, n_digits)` 可以解決這個問題，`values` 是想要簡略的值，`n_digits` 輸入你想要幾位數，如果不輸入 `n_digits` 的話會直接化為整數"
      ]
    },
    {
      "cell_type": "code",
      "execution_count": 65,
      "metadata": {},
      "outputs": [
        {
          "name": "stdout",
          "output_type": "stream",
          "text": [
            "平均: 107\n",
            "平均: 106.67\n"
          ]
        }
      ],
      "source": [
        "print(\"平均:\", round(sum(food_expenses) / len(food_expenses)))\n",
        "print(\"平均:\", round(sum(food_expenses) / len(food_expenses), 2))"
      ]
    },
    {
      "attachments": {},
      "cell_type": "markdown",
      "metadata": {},
      "source": [
        "## for loop\n",
        "對於迴圈之後會有更多的介紹，這裡是簡單說明要怎麼用 for loop 存取 list 裡面存放的元素\n",
        "\n",
        "```python\n",
        "for value in sample_list: # value 可以改成你想要的變數名稱, sample_list 改成你想要的 list \n",
        "    print(value) # print 只是個示範\n",
        "    # you can do anything else\n",
        "```\n",
        "\n",
        "有了迴圈之後可以批次處理我們的資料了，比如說換成美元"
      ]
    },
    {
      "cell_type": "code",
      "execution_count": 76,
      "metadata": {},
      "outputs": [
        {
          "name": "stdout",
          "output_type": "stream",
          "text": [
            "4.66\n",
            "2.41\n",
            "3.21\n"
          ]
        }
      ],
      "source": [
        "ntd_to_usd = 1 / 31.11 # 31.11 台幣 = 1 美元 at 2023/7/5\n",
        "for price in food_expenses:\n",
        "    print(round(price * ntd_to_usd, 2))"
      ]
    },
    {
      "attachments": {},
      "cell_type": "markdown",
      "metadata": {},
      "source": [
        "或是通通 -10 元，緬懷一下沒有漲價的美好時光"
      ]
    },
    {
      "cell_type": "code",
      "execution_count": 78,
      "metadata": {},
      "outputs": [
        {
          "name": "stdout",
          "output_type": "stream",
          "text": [
            "7/01 夢中的餐費\n",
            "最高: 135\n",
            "最低: 65\n",
            "總計: 290\n",
            "平均: 96.66666666666667\n"
          ]
        }
      ],
      "source": [
        "expenses_in_dream = []\n",
        "for price in food_expenses:\n",
        "    expenses_in_dream.append(price - 10)\n",
        "\n",
        "print(\"7/01 夢中的餐費\")\n",
        "print(\"最高:\", max(expenses_in_dream)) # 直接把 list 塞進函式即可\n",
        "print(\"最低:\", min(expenses_in_dream))\n",
        "print(\"總計:\", sum(expenses_in_dream))\n",
        "print(\"平均:\", sum(expenses_in_dream) / len(expenses_in_dream))"
      ]
    }
  ],
  "metadata": {
    "colab": {
      "provenance": []
    },
    "kernelspec": {
      "display_name": "Python 3",
      "name": "python3"
    },
    "language_info": {
      "codemirror_mode": {
        "name": "ipython",
        "version": 3
      },
      "file_extension": ".py",
      "mimetype": "text/x-python",
      "name": "python",
      "nbconvert_exporter": "python",
      "pygments_lexer": "ipython3",
      "version": "3.9.17"
    }
  },
  "nbformat": 4,
  "nbformat_minor": 0
}
