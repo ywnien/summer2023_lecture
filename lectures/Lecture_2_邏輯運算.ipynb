{
  "cells": [
    {
      "cell_type": "markdown",
      "metadata": {
        "id": "E62HgyhOyvo8"
      },
      "source": [
        "# **邏輯**\n",
        "輸出的可能性只有兩個(True, False)\n",
        "\n",
        "## 布林變數(boolean)\n",
        "可以直接把邏輯的輸出值塞進去的變數"
      ]
    },
    {
      "cell_type": "code",
      "execution_count": null,
      "metadata": {
        "colab": {
          "base_uri": "https://localhost:8080/"
        },
        "id": "Hjc49c5ox6Lr",
        "outputId": "ffa4d299-5913-4cb7-b5d6-959adfc4914a"
      },
      "outputs": [
        {
          "name": "stdout",
          "output_type": "stream",
          "text": [
            "布林值為 False\n"
          ]
        }
      ],
      "source": [
        "布林 = False\n",
        "print(\"布林值為\",布林)"
      ]
    },
    {
      "cell_type": "markdown",
      "metadata": {
        "id": "43dz2PFhT_H6"
      },
      "source": [
        "# 邏輯運算\n",
        "\n",
        "人生就是充滿著選擇，不只有「小孩子才做選擇」，電腦也要做選擇。\n",
        "邏輯運算有三類運算子。\n",
        "\n",
        "## 「比較運算子」\n",
        "下列運算的結果要嘛是「是」要嘛是「否」，「是」的話就是 `True`，「否」的話就是 `False`：\n",
        "\n",
        "| 運算子 | 說明                          | 範例   |\n",
        "|--------|-------------------------------|--------|\n",
        "| >      | 大於 ( a 是否大於 b )         | a > b  |\n",
        "| <      | 小於 ( a 是否小於 b )         | a < b  |\n",
        "| >=     | 大於等於 ( a 是否大於等於 b ) | a >= b |\n",
        "| <=     | 小於等於 ( a 是否小於等於 b ) | a <= b |\n",
        "| ==     | 等於 ( a 是否等於 b )         | a == b |\n",
        "| !=     | 不等於 ( a 是否不等於 b )       | a != b |\n",
        "\n",
        "**注意**：\n",
        "`=` 跟 `==` 不一樣喔！\n",
        "\n",
        "* `a = b` 的意思是：把 `b` 的值塞進 `a`\n",
        "* `a == b` 的意思是：`a` 是否等於 `b` 呢？\n",
        "* == 跟 != 不只有在數值判斷上才能使用，也可以用在判斷比較運算子左右兩邊是否一致"
      ]
    },
    {
      "cell_type": "code",
      "execution_count": null,
      "metadata": {
        "colab": {
          "base_uri": "https://localhost:8080/"
        },
        "id": "ySZQ1tNi366o",
        "outputId": "fae09bbf-dadf-429a-a540-3064e83dfdfe"
      },
      "outputs": [
        {
          "name": "stdout",
          "output_type": "stream",
          "text": [
            "我們是同鄉： False\n",
            "我們不是同鄉： True\n"
          ]
        }
      ],
      "source": [
        "我的家鄉 = \"新竹市\"\n",
        "你的家鄉 = \"台中市\"\n",
        "print(\"我們是同鄉：\", 我的家鄉 == 你的家鄉)\n",
        "\n",
        "我的家鄉 = \"台北市\"\n",
        "print(\"我們不是同鄉：\", 我的家鄉 != 你的家鄉)"
      ]
    },
    {
      "attachments": {},
      "cell_type": "markdown",
      "metadata": {
        "id": "leeR80MsWJbC"
      },
      "source": [
        "## 「邏輯運算子」\n",
        "### 而且：`and`\n",
        "兩邊都要對，才是對。\n",
        "\n",
        "當 `a` 是 `True`，`b` 也是 `True`，結果是 `True`，但只要 `a`、`b` 其中一個是 `False`，結果就是 `False`。\n",
        "\n",
        "### 或者：`or`\n",
        "兩邊以要一個對，就是對。\n",
        "\n",
        "### 不：`not`\n"
      ]
    },
    {
      "cell_type": "code",
      "execution_count": null,
      "metadata": {
        "colab": {
          "base_uri": "https://localhost:8080/"
        },
        "id": "k9ZhVZwuWx8c",
        "outputId": "98f2e7c4-7c47-40d0-8797-a999ea8bad30"
      },
      "outputs": [
        {
          "name": "stdout",
          "output_type": "stream",
          "text": [
            "建中\n",
            "True\n",
            "附中\n",
            "True\n"
          ]
        }
      ],
      "source": [
        "性別 = \"男\"\n",
        "分數 = 35\n",
        "print(\"建中\")\n",
        "print((性別 == \"男\") and (分數 > 33))\n",
        "print(\"附中\")\n",
        "print(((性別 == \"男\") or (性別 == \"女\")) and (分數 > 31))"
      ]
    },
    {
      "cell_type": "code",
      "execution_count": null,
      "metadata": {
        "colab": {
          "base_uri": "https://localhost:8080/"
        },
        "id": "ZjgqrADaWsPQ",
        "outputId": "cf3c4dd9-3957-4d40-9931-1ef596048c9c"
      },
      "outputs": [
        {
          "name": "stdout",
          "output_type": "stream",
          "text": [
            "68\n",
            "我可以上台大資工系： False\n",
            "我可以上交大資工系： False\n",
            "我可以上成大中文： True\n",
            "我可以上政大會計系： True\n",
            "我可以用外國人管道上台大資工系： False\n"
          ]
        }
      ],
      "source": [
        "# 我的學測分數\n",
        "國 = 15\n",
        "英 = 14\n",
        "數 = 13\n",
        "社 = 13\n",
        "自 = 13\n",
        "台灣人 = True\n",
        "總級分 = 國 + 英 + 數 + 社 + 自\n",
        "print(總級分)\n",
        "print(\"我可以上台大資工系：\", (數 >= 15) and (自 >= 15) and (總級分 >= 73))\n",
        "print(\"我可以上交大資工系：\", (數 >= 14) and (自 >= 14) and (總級分 >= 68))\n",
        "print(\"我可以上成大中文：\", (國 >= 14) or (總級分 >= 64))\n",
        "print(\"我可以上政大會計系：\", ((社 >= 13 and 英 >= 14) or 總級分 >= 66))\n",
        "\n",
        "print(\"我可以用外國人管道上台大資工系：\", not 台灣人 and (數 >= 13 and 自 >= 13 and 總級分 >= 70))\n",
        "print(\"我可以用外國人管道上台大資工系：\", 台灣人 != True and (數 >= 13 and 自 >= 13 and 總級分 >= 70))"
      ]
    },
    {
      "cell_type": "markdown",
      "metadata": {
        "id": "OBzYzaUkZTDs"
      },
      "source": [
        "## 「`in` 運算子」\n",
        "如果有 `element` 和 `L` 兩個變數，`L` 是一個 `list`，使用「in 運算子」可以判斷 `L` 是否裝了 `element`"
      ]
    },
    {
      "cell_type": "code",
      "execution_count": null,
      "metadata": {
        "colab": {
          "base_uri": "https://localhost:8080/"
        },
        "id": "ssSLWA7xZ2JP",
        "outputId": "16ba5197-4b87-404c-97d1-c52505fac9b3"
      },
      "outputs": [
        {
          "name": "stdout",
          "output_type": "stream",
          "text": [
            "台灣有產蘋果嗎？ False\n",
            "台灣有產酪梨嗎？ True\n"
          ]
        }
      ],
      "source": [
        "taiwan_fruits = ['梅子', '西瓜', '李子', '芒果', '枇杷', '草莓',\n",
        "                 '荔枝', '紅龍果', '桃子', '梨子', '葡萄', '酪梨',\n",
        "                 '龍眼', '西瓜', '李子', '芒果', '荔枝', '文旦柚',\n",
        "                 '柿子', '洛神', '紅龍果', '百香果', '芒果', '梨子',\n",
        "                 '酪梨', '金棗', '柑橘', '番茄', '蜜棗', '柳丁', '柿子', '草莓']\n",
        "print(\"台灣有產蘋果嗎？\", \"蘋果\" in taiwan_fruits)\n",
        "print(\"台灣有產酪梨嗎？\", \"酪梨\" in taiwan_fruits)\n"
      ]
    },
    {
      "cell_type": "markdown",
      "metadata": {
        "id": "F4sYk-J9aMG3"
      },
      "source": [
        "## 邏輯判斷 ( if、elif、else )\n",
        "\n",
        "「`if`」判斷就如同字面的意思：「如果怎樣...就怎樣...」\n",
        "\n",
        "當邏輯判斷式是 True 的時候執行 `if` 區塊的程式碼，當邏輯判斷式為 False 的時候執行 `else` 的程式碼。而 elif 則是 else if 的縮寫。\n",
        "\n",
        "![img](https://steam.oxxostudio.tw/webp/python/basic/if-02.webp)\n",
        "[圖片來源](https://steam.oxxostudio.tw/category/python/basic/if.html)\n",
        "\n",
        "⭐ 在 if / elfi / else 後面記得要**加上冒號** : 以進入下一個程式區塊\n",
        "\n",
        "在 Python 中，程式碼的分區是以 \"縮排\" 來區分的。當縮排的空格長度不一樣的時候，表示程式碼處於不同的分區。這裡要特別注意常用的 TAB 和一般的空白鍵可能都可以排出類似的縮排效果，但是其實在程式碼裡面是被視為**不同**的。\n"
      ]
    },
    {
      "cell_type": "code",
      "execution_count": null,
      "metadata": {
        "colab": {
          "base_uri": "https://localhost:8080/"
        },
        "id": "20i33zcic-ws",
        "outputId": "eee8111f-299e-43c3-c129-c24a191242a5"
      },
      "outputs": [
        {
          "name": "stdout",
          "output_type": "stream",
          "text": [
            "@_@\n"
          ]
        }
      ],
      "source": [
        "明天天氣 = \"下雨\"\n",
        "有借到場地 = False\n",
        "\n",
        "# 這兩種寫法是一樣的：  if 明天天氣 != \"下雨\" and 有借到場地 == True:\n",
        "if 明天天氣 != \"下雨\" and 有借到場地:\n",
        "    print(\"走！去打球。\")\n",
        "    print(\"Ya!\")\n",
        "elif 明天天氣 == \"下雨\" and 有借到場地: # else if\n",
        "    print(\"走！淋雨也可打球。\")\n",
        "else:\n",
        "    print(\"@_@\")"
      ]
    },
    {
      "cell_type": "markdown",
      "metadata": {
        "id": "s6oLh7NYcynl"
      },
      "source": [
        "程式區塊可以有好幾層，在同一層縮排的程式碼屬於同一區塊"
      ]
    },
    {
      "cell_type": "code",
      "execution_count": null,
      "metadata": {
        "colab": {
          "base_uri": "https://localhost:8080/"
        },
        "id": "lUqHdnKXbO38",
        "outputId": "c871275f-ddb1-4798-d88d-8e878c6cd523"
      },
      "outputs": [
        {
          "name": "stdout",
          "output_type": "stream",
          "text": [
            "我無法用上述管道上台大資工系\n"
          ]
        }
      ],
      "source": [
        "# 我的學測分數\n",
        "國 = 15\n",
        "英 = 14\n",
        "數 = 13\n",
        "社 = 13\n",
        "自 = 13\n",
        "國籍 = \"台灣\"\n",
        "體保生 = False\n",
        "總級分 = 國 + 英 + 數 + 社 + 自\n",
        ",\n",
        "if 數 >= 15 and 自 >= 15 and 總級分 >= 73:\n",
        "    print(\"我可以用「一般生」身份上台大資工系\")\n",
        "elif 國籍 != \"台灣\":\n",
        "    if 國籍 in [\"馬來西亞\", \"香港\", \"印尼\", \"泰國\"]:\n",
        "        print(\"我可以用「僑生」身份上台大資工系\")\n",
        "    elif 數 >= 13 and 自 >= 13 and 總級分 >= 70:\n",
        "        print(\"我可以用「外國人」身份上台大資工系\")\n",
        "elif 體保生: # 體保生 == True\n",
        "    print(\"我可以用「體保生」身份上台大資工系\")\n",
        "else:\n",
        "    print(\"我無法用上述管道上台大資工系\")\n",
        "\n"
      ]
    }
  ],
  "metadata": {
    "colab": {
      "provenance": []
    },
    "kernelspec": {
      "display_name": "Python 3",
      "name": "python3"
    },
    "language_info": {
      "name": "python"
    }
  },
  "nbformat": 4,
  "nbformat_minor": 0
}
