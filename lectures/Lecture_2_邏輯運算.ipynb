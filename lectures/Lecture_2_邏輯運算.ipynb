{
  "cells": [
    {
      "attachments": {},
      "cell_type": "markdown",
      "metadata": {
        "id": "E62HgyhOyvo8"
      },
      "source": [
        "# 布林變數 (boolean)\n",
        "程式語言不只是能計算而已，也能夠判斷描述是否為真，比如判斷一個數值是否大於 0\n",
        "\n",
        "結果只有 `True` or `False` (記得開頭要**大寫**)"
      ]
    },
    {
      "cell_type": "code",
      "execution_count": 1,
      "metadata": {},
      "outputs": [
        {
          "data": {
            "text/plain": [
              "True"
            ]
          },
          "execution_count": 1,
          "metadata": {},
          "output_type": "execute_result"
        }
      ],
      "source": [
        "num = 1\n",
        "num > 0"
      ]
    },
    {
      "cell_type": "code",
      "execution_count": 2,
      "metadata": {},
      "outputs": [
        {
          "data": {
            "text/plain": [
              "False"
            ]
          },
          "execution_count": 2,
          "metadata": {},
          "output_type": "execute_result"
        }
      ],
      "source": [
        "num = -1\n",
        "num > 0"
      ]
    },
    {
      "attachments": {},
      "cell_type": "markdown",
      "metadata": {
        "id": "43dz2PFhT_H6"
      },
      "source": [
        "# 邏輯運算\n",
        "\n",
        "## 比較運算子\n",
        "下列運算的結果也一樣只會是 `True` or `False`\n",
        "\n",
        "| 運算子 | 說明                          | 範例   |\n",
        "|-------|------------------------------|--------|\n",
        "| `>`   | 大於 ( `a` 是否大於 `b` )         | `a > b`  |\n",
        "| `<`   | 小於 ( `a` 是否小於 `b` )         | `a < b`  |\n",
        "| `>=`  | 大於等於 ( `a` 是否大於等於 `b` )  | `a >= b` |\n",
        "| `<=`  | 小於等於 ( `a` 是否小於等於 `b` )  | `a <= b` |\n",
        "| `==`  | 等於 ( `a` 是否等於 `b` )         | `a == b` |\n",
        "| `!=`  | 不等於 ( `a` 是否不等於 `b` )      | `a != b` |\n",
        "\n",
        "**注意**：\n",
        "`=` 跟 `==` 不一樣喔！\n",
        "\n",
        "* `a = b` 的意思是：把 `b` 的值塞進 `a`\n",
        "* `a == b` 的意思是：`a` 是否等於 `b` 呢？"
      ]
    },
    {
      "cell_type": "code",
      "execution_count": 10,
      "metadata": {
        "colab": {
          "base_uri": "https://localhost:8080/"
        },
        "id": "ySZQ1tNi366o",
        "outputId": "fae09bbf-dadf-429a-a540-3064e83dfdfe"
      },
      "outputs": [
        {
          "name": "stdout",
          "output_type": "stream",
          "text": [
            "我們是同鄉: False\n",
            "我們不是同鄉: True\n"
          ]
        }
      ],
      "source": [
        "my_hometown = \"彰化市\"\n",
        "your_hometown = \"台北市\"\n",
        "\n",
        "print(\"我們是同鄉:\", my_hometown == your_hometown)\n",
        "print(\"我們不是同鄉:\", my_hometown != your_hometown)"
      ]
    },
    {
      "attachments": {},
      "cell_type": "markdown",
      "metadata": {
        "id": "leeR80MsWJbC"
      },
      "source": [
        "## 邏輯運算子\n",
        "### 而且：`and`\n",
        "兩邊都要是 `True`，才會輸出 `True`。\n",
        "```python\n",
        ">>> True and False\n",
        "False\n",
        ">>> False and True\n",
        "False\n",
        ">>> True and True\n",
        "True\n",
        ">>> False and False\n",
        "False\n",
        "```\n",
        "\n",
        "當 `a` 是 `True`，`b` 也是 `True`，結果就是 `True`。但只要 `a`、`b` 其中一個是 `False`，結果就是 `False`。"
      ]
    },
    {
      "cell_type": "code",
      "execution_count": 5,
      "metadata": {},
      "outputs": [
        {
          "name": "stdout",
          "output_type": "stream",
          "text": [
            "num 介於 0 到 100 之間: True\n"
          ]
        }
      ],
      "source": [
        "num = 50\n",
        "print(\"num 介於 0 到 100 之間:\", num >= 0 and num <= 100)"
      ]
    },
    {
      "attachments": {},
      "cell_type": "markdown",
      "metadata": {},
      "source": [
        "### 或者：`or`\n",
        "兩邊只要有一個 `True`，就是 `True`。\n",
        "```python\n",
        ">>> True or False\n",
        "True\n",
        ">>> False or True\n",
        "True\n",
        ">>> True or True\n",
        "True\n",
        ">>> False or False\n",
        "False\n",
        "```"
      ]
    },
    {
      "cell_type": "code",
      "execution_count": 7,
      "metadata": {
        "colab": {
          "base_uri": "https://localhost:8080/"
        },
        "id": "k9ZhVZwuWx8c",
        "outputId": "98f2e7c4-7c47-40d0-8797-a999ea8bad30"
      },
      "outputs": [
        {
          "name": "stdout",
          "output_type": "stream",
          "text": [
            "num 在 0 到 100 之外: True\n"
          ]
        }
      ],
      "source": [
        "num = 705\n",
        "print(\"num 在 0 到 100 之外:\", num < 0 or num > 100)"
      ]
    },
    {
      "attachments": {},
      "cell_type": "markdown",
      "metadata": {},
      "source": [
        "### 不：`not`\n",
        "讓布林值相反，因此如果寫 `not True`/`not False` 就會給出 `False`/`True`\n",
        "```python\n",
        ">>> not True\n",
        "False\n",
        ">>> not False\n",
        "True\n",
        "```"
      ]
    },
    {
      "cell_type": "code",
      "execution_count": 9,
      "metadata": {
        "colab": {
          "base_uri": "https://localhost:8080/"
        },
        "id": "ZjgqrADaWsPQ",
        "outputId": "cf3c4dd9-3957-4d40-9931-1ef596048c9c"
      },
      "outputs": [
        {
          "name": "stdout",
          "output_type": "stream",
          "text": [
            "尚未繳費: True\n"
          ]
        }
      ],
      "source": [
        "paid = False\n",
        "print(\"尚未繳費:\", not paid)"
      ]
    },
    {
      "attachments": {},
      "cell_type": "markdown",
      "metadata": {
        "id": "F4sYk-J9aMG3"
      },
      "source": [
        "## 邏輯判斷 ( if、elif、else )\n",
        "\n",
        "「`if`」判斷就如同字面的意思：「如果怎樣...就怎樣...」\n",
        "\n",
        "---\n",
        "#### Syntax\n",
        "```python\n",
        "if condition_1:\n",
        "    # 如果 if 後面的 condition 是 True 就執行這區塊的內容\n",
        "    # 並且 elif, else 內的程式碼不會被執行\n",
        "elif condition_2:\n",
        "    # 如果 elif 後面是 True 就執行，一樣不會執行 else\n",
        "    # 註: 當然也不會執行 if 的部分，因為 if 那邊的 \n",
        "else:\n",
        "    # do something else\n",
        "```\n",
        "---\n",
        "\n",
        "當邏輯判斷式是 `True` 的時候執行 `if` 區塊的程式碼，當邏輯判斷式為 `False` 的時候執行 `else` 的程式碼。而 `elif` 則是 else if 的縮寫。\n",
        "\n",
        "<img src=https://steam.oxxostudio.tw/webp/python/basic/if-02.webp width=\"300\"/>\n",
        "\n",
        "[圖片來源](https://steam.oxxostudio.tw/category/python/basic/if.html)\n",
        "\n",
        "⭐ 在 if / elfi / else 後面記得要**加上冒號** : 以進入下一個程式區塊\n",
        "\n",
        "在 Python 中，程式碼的分區是以 \"縮排\" 來區分的。當縮排的空格長度不一樣的時候，表示程式碼處於不同的分區。這裡要特別注意常用的 TAB 和一般的空白鍵可能都可以排出類似的縮排效果，但是其實在程式碼裡面是被視為**不同**的。\n"
      ]
    },
    {
      "cell_type": "code",
      "execution_count": null,
      "metadata": {
        "colab": {
          "base_uri": "https://localhost:8080/"
        },
        "id": "20i33zcic-ws",
        "outputId": "eee8111f-299e-43c3-c129-c24a191242a5"
      },
      "outputs": [
        {
          "name": "stdout",
          "output_type": "stream",
          "text": [
            "@_@\n"
          ]
        }
      ],
      "source": [
        "明天天氣 = \"下雨\"\n",
        "有借到場地 = False\n",
        "\n",
        "# 這兩種寫法是一樣的：  if 明天天氣 != \"下雨\" and 有借到場地 == True:\n",
        "if 明天天氣 != \"下雨\" and 有借到場地:\n",
        "    print(\"走！去打球。\")\n",
        "    print(\"Ya!\")\n",
        "elif 明天天氣 == \"下雨\" and 有借到場地: # else if\n",
        "    print(\"走！淋雨也可打球。\")\n",
        "else:\n",
        "    print(\"@_@\")"
      ]
    },
    {
      "cell_type": "markdown",
      "metadata": {
        "id": "s6oLh7NYcynl"
      },
      "source": [
        "程式區塊可以有好幾層，在同一層縮排的程式碼屬於同一區塊"
      ]
    },
    {
      "cell_type": "code",
      "execution_count": null,
      "metadata": {
        "colab": {
          "base_uri": "https://localhost:8080/"
        },
        "id": "lUqHdnKXbO38",
        "outputId": "c871275f-ddb1-4798-d88d-8e878c6cd523"
      },
      "outputs": [
        {
          "name": "stdout",
          "output_type": "stream",
          "text": [
            "我無法用上述管道上台大資工系\n"
          ]
        }
      ],
      "source": [
        "# 我的學測分數\n",
        "國 = 15\n",
        "英 = 14\n",
        "數 = 13\n",
        "社 = 13\n",
        "自 = 13\n",
        "國籍 = \"台灣\"\n",
        "體保生 = False\n",
        "總級分 = 國 + 英 + 數 + 社 + 自\n",
        ",\n",
        "if 數 >= 15 and 自 >= 15 and 總級分 >= 73:\n",
        "    print(\"我可以用「一般生」身份上台大資工系\")\n",
        "elif 國籍 != \"台灣\":\n",
        "    if 國籍 in [\"馬來西亞\", \"香港\", \"印尼\", \"泰國\"]:\n",
        "        print(\"我可以用「僑生」身份上台大資工系\")\n",
        "    elif 數 >= 13 and 自 >= 13 and 總級分 >= 70:\n",
        "        print(\"我可以用「外國人」身份上台大資工系\")\n",
        "elif 體保生: # 體保生 == True\n",
        "    print(\"我可以用「體保生」身份上台大資工系\")\n",
        "else:\n",
        "    print(\"我無法用上述管道上台大資工系\")\n",
        "\n"
      ]
    }
  ],
  "metadata": {
    "colab": {
      "provenance": []
    },
    "kernelspec": {
      "display_name": "Python 3",
      "name": "python3"
    },
    "language_info": {
      "codemirror_mode": {
        "name": "ipython",
        "version": 3
      },
      "file_extension": ".py",
      "mimetype": "text/x-python",
      "name": "python",
      "nbconvert_exporter": "python",
      "pygments_lexer": "ipython3",
      "version": "3.9.17"
    }
  },
  "nbformat": 4,
  "nbformat_minor": 0
}
