{
 "cells": [
  {
   "cell_type": "markdown",
   "metadata": {},
   "source": [
    "# 函式 Function\n",
    "\n",
    "截至目前為止已經使用過一些內建函式了，比如 `print` 或是 `sum`。這次我們要學習自己撰寫函式，使用函式有以下優點:\n",
    "* 重複使用，避免撰寫重複的程式碼\n",
    "* 將許多程式碼包裝成一個功能\n",
    "* 將程式碼各自獨立，避免互相影響\n",
    "\n",
    "迴圈與函式可以說是程式設計的核心觀念。\n",
    "\n",
    "# 定義函式\n",
    "當要定義函式的時候，首先要寫 `def` 讓 python 知道你要寫函式了，`function_name` 則是命名函式名稱的地方，`function_name` 後面接著的小括號內可以定義參數 `parameter`，接著寫下冒號 `:`，換行後再縮排就能開始寫要執行的程式碼了\n",
    "\n",
    "---\n",
    "#### Syntax\n",
    "```python\n",
    "def function_name(parameter, ...): # 記得加冒號\n",
    "    # 任何程式碼\n",
    "    # 一樣要縮排哦\n",
    "```\n",
    "\n",
    "---\n",
    "\n",
    "這裡示範一個像是登入網站後會依據用戶名稱 `username` 給出問候訊息的函式: `greet(username)`。"
   ]
  },
  {
   "cell_type": "code",
   "execution_count": 3,
   "metadata": {},
   "outputs": [],
   "source": [
    "def greet(username):\n",
    "    print(f\"{username} 同學 您好!\")"
   ]
  },
  {
   "cell_type": "code",
   "execution_count": 15,
   "metadata": {},
   "outputs": [
    {
     "name": "stdout",
     "output_type": "stream",
     "text": [
      "粘育瑋 同學 您好!\n",
      "吳秉勳 同學 您好!\n"
     ]
    }
   ],
   "source": [
    "# 執行定義好的函式\n",
    "greet(\"粘育瑋\")\n",
    "greet(\"吳秉勳\")"
   ]
  },
  {
   "cell_type": "markdown",
   "metadata": {},
   "source": [
    "上面顯示了**重複使用**的優點，如果我想要為另一位用戶輸出問候訊息，只要再呼叫一次函式就可以了。\n",
    "\n",
    "如果日後要更改問候訊息的話只需要更改函式的部分，下面是更改成英文的版本。執行下方的程式碼後，再執行上面的部分就會看到英文的問候訊息了"
   ]
  },
  {
   "cell_type": "code",
   "execution_count": 17,
   "metadata": {},
   "outputs": [],
   "source": [
    "# 修改上面的函式\n",
    "def greet(username):\n",
    "    print(f\"Hi {username}\")"
   ]
  },
  {
   "cell_type": "markdown",
   "metadata": {},
   "source": [
    "函式也有**獨立程式碼**的功用，意思是函式內的變數只有在函式中可以存取，因此在函式外面是找不到 `username` 的。"
   ]
  },
  {
   "cell_type": "code",
   "execution_count": 20,
   "metadata": {},
   "outputs": [
    {
     "ename": "NameError",
     "evalue": "name 'username' is not defined",
     "output_type": "error",
     "traceback": [
      "\u001b[0;31m---------------------------------------------------------------------------\u001b[0m",
      "\u001b[0;31mNameError\u001b[0m                                 Traceback (most recent call last)",
      "Cell \u001b[0;32mIn[20], line 1\u001b[0m\n\u001b[0;32m----> 1\u001b[0m username\n",
      "\u001b[0;31mNameError\u001b[0m: name 'username' is not defined"
     ]
    }
   ],
   "source": [
    "username"
   ]
  },
  {
   "cell_type": "markdown",
   "metadata": {},
   "source": [
    "## `return` 回傳結果\n",
    "\n",
    "Q: 如果函式內外像獨立的世界一樣的話，有其他辦法將變數傳出來嗎?\\\n",
    "A: 使用 `return`\n",
    "\n",
    "### 回傳變數的範例\n",
    "\n",
    "以 $f(x) = x^2$ 來示範的話會是"
   ]
  },
  {
   "cell_type": "code",
   "execution_count": 8,
   "metadata": {},
   "outputs": [
    {
     "data": {
      "text/plain": [
       "4"
      ]
     },
     "execution_count": 8,
     "metadata": {},
     "output_type": "execute_result"
    }
   ],
   "source": [
    "def f(x):\n",
    "    return x ** 2 # return 後面接上你要回傳的變數\n",
    "\n",
    "y = f(2)\n",
    "y"
   ]
  },
  {
   "cell_type": "markdown",
   "metadata": {},
   "source": [
    "### `return` 的意義\n",
    "return 是返回的意思，當程式遇見 `return` 的時候就會返**回**當初呼叫函式的位置，並將 `return` 的變數**傳**出來，因此中文被翻作**回傳**。\n",
    "\n",
    "#### Python 會自動 `return None`\n",
    "Python 允許寫 `return` 但後方不接任何變數，python 會自動幫你回傳 `None`。甚至也允許你乾脆不寫 `return`，python 會幫你在函式最後一行後回傳 `None`\n",
    "\n",
    "回顧最一開始寫的函式 `greet(username)`，在定義函式的時候並沒有寫 `return`，所以印出回傳的值的結果是 `None`\n"
   ]
  },
  {
   "cell_type": "code",
   "execution_count": 11,
   "metadata": {},
   "outputs": [
    {
     "name": "stdout",
     "output_type": "stream",
     "text": [
      "粘育瑋 同學 您好!\n",
      "None\n"
     ]
    }
   ],
   "source": [
    "print(greet(\"粘育瑋\"))"
   ]
  },
  {
   "cell_type": "markdown",
   "metadata": {},
   "source": [
    "### 函式內可以有許多個 `return`\n",
    "結合 if/else 可以讓一個函式根據不同情況給出不同的輸出。因此在寫函式的過程當中，我們也正在釐清我們的問題會有哪些情況要考慮，這正是所謂的程式設計思維。\n",
    "\n",
    "我們先從一個大家都會的範例開始，絕對值。嚴謹一點的數學描述長這樣\n",
    "$$\n",
    "|x| = \n",
    "\\begin{cases}\n",
    "   x &\\text{if } x \\ge 0 \\\\\n",
    "   -x &\\text{if } x < 0\n",
    "\\end{cases}\n",
    "$$\n",
    "我們可以看到他有兩個情況要考慮，一個是 $x \\ge 0$，另一個是 $x < 0$ 的情況"
   ]
  },
  {
   "cell_type": "code",
   "execution_count": 9,
   "metadata": {},
   "outputs": [
    {
     "name": "stdout",
     "output_type": "stream",
     "text": [
      "1\n",
      "1\n"
     ]
    }
   ],
   "source": [
    "def my_abs(x):\n",
    "    if x >= 0:\n",
    "        return x\n",
    "    else: # x < 0\n",
    "        return -x\n",
    "\n",
    "print(my_abs(1))\n",
    "print(my_abs(-1))"
   ]
  },
  {
   "cell_type": "markdown",
   "metadata": {},
   "source": [
    "# 呼叫函式\n",
    "\n",
    "前面的文字也有提到呼叫 (call) 函式了，其實指的就是在函數後面加上括號並放入參數，如此一來函式內的程式碼**才會被執行**。\n",
    "\n",
    "**所以如果不加括號不放參數會怎麼樣?**\n",
    "\n",
    "沒有回應，只是個物件。\n"
   ]
  },
  {
   "cell_type": "code",
   "execution_count": 15,
   "metadata": {},
   "outputs": [
    {
     "data": {
      "text/plain": [
       "<function __main__.greet(username)>"
      ]
     },
     "execution_count": 15,
     "metadata": {},
     "output_type": "execute_result"
    }
   ],
   "source": [
    "greet"
   ]
  },
  {
   "cell_type": "markdown",
   "metadata": {},
   "source": [
    "`greet(username)` 因為需要輸入 `username` 的緣故，所以不太容易犯這樣的錯誤。\n",
    "\n",
    "但是如果函式不需要參數的話就很容易犯這樣的錯誤。"
   ]
  },
  {
   "cell_type": "code",
   "execution_count": 27,
   "metadata": {},
   "outputs": [
    {
     "name": "stdout",
     "output_type": "stream",
     "text": [
      "<function hello_message at 0x7f8910092c10>\n",
      "Hello, World!\n"
     ]
    }
   ],
   "source": [
    "def hello_message(): # 不需要參數的函式\n",
    "    return \"Hello, World!\"\n",
    "\n",
    "print(hello_message) # 沒有呼叫函式\n",
    "print(hello_message())"
   ]
  },
  {
   "cell_type": "markdown",
   "metadata": {},
   "source": [
    "## 傳遞參數\n",
    "\n",
    "當我們的函式越來越複雜，我們可能會需要有多個變數，比如之前出現過的一元二次方程式公式解\n",
    "$$ a x ^ 2 + b x + c = 0$$\n",
    "$$x = \\frac{-b \\pm \\sqrt{b^2 - 4 ac}}{2a}$$\n",
    "可以發現 $x$ 的值會隨著 $a$ $b$ $c$ 改變，所以他們 3 個是這個函數的變數。\n",
    "\n",
    "### 按照位置\n",
    "如果我們今天分別想要讓 $a = 1,\\ b = -3,\\ c = 2$ 的話，我們只要**依序**將 `1, -3, 2` 當作參數填入就可以了"
   ]
  },
  {
   "cell_type": "code",
   "execution_count": 31,
   "metadata": {},
   "outputs": [
    {
     "data": {
      "text/plain": [
       "(2.0, 1.0)"
      ]
     },
     "execution_count": 31,
     "metadata": {},
     "output_type": "execute_result"
    }
   ],
   "source": [
    "def solve_quadratic(a, b, c):\n",
    "    sqrt_part = (b ** 2 - 4 * a * c) ** 0.5\n",
    "    x_1 = (-b + sqrt_part) / (2 * a)\n",
    "    x_2 = (-b - sqrt_part) / (2 * a)\n",
    "    return x_1, x_2\n",
    "\n",
    "solve_quadratic(1, -3, 2)"
   ]
  },
  {
   "cell_type": "markdown",
   "metadata": {},
   "source": [
    "### 按照關鍵字\n",
    "\n",
    "除了照順序寫，也能以參數名稱作為關鍵字指定變數。只要在小括號裡面寫 `a=1, b=-3, c=2`，並且順序可以調換。\n",
    "\n",
    "雖然這樣做好像讓程式碼變得更長了，但是如果變數的數量非常多的話，這樣可以有效避免搞錯變數的順序。\n",
    "\n",
    "這裡給一個很多變數的函式範例: [`pandas.read_csv`](https://pandas.pydata.org/docs/reference/api/pandas.read_csv.html)\n"
   ]
  },
  {
   "cell_type": "code",
   "execution_count": 32,
   "metadata": {},
   "outputs": [
    {
     "name": "stdout",
     "output_type": "stream",
     "text": [
      "(2.0, 1.0)\n",
      "(2.0, 1.0)\n"
     ]
    }
   ],
   "source": [
    "print(solve_quadratic(a=1, b=-3, c=2))\n",
    "print(solve_quadratic(b=-3, c=2, a=1)) # 調換順序"
   ]
  },
  {
   "cell_type": "markdown",
   "metadata": {},
   "source": [
    "#### 補充: 一次回傳多個變數\n",
    "\n",
    "我們之前有教過容器，當然也可以用他們將許多變數裝起來回傳。但是 python 本身提供更單純的方案: 將多個變數之間用逗號 `,` 隔開就好，就是上面寫的 `return x_1, x_2`。\n",
    "\n",
    "他會直接用一種叫做 tuple 的容器裝起來，tuple 索引取值的方式和 list 一樣，但是他本身是**不能更動內部的元素的**。保持資料不變的特性讓他在 python 運作的過程中非常常見，但是在寫程式的時候就很少直接使用它了。\n",
    "\n",
    "除了索引之外還有一種方便的寫法讓 tuple 中的元素直接指定到兩個不同的變數上\n",
    "```python\n",
    "x_1, x_2 = solve_quadratic(1, -3, 2)\n",
    "print(x_1, x_2) # 2.0 1.0\n",
    "```\n",
    "是不是很簡潔方便呢?"
   ]
  },
  {
   "cell_type": "markdown",
   "metadata": {},
   "source": [
    "## 參數預設值\n",
    "\n",
    "當函數需要輸入大量的參數時，必然會使得程式碼變得相當冗長，但是為了部分功能額外撰寫新函式可能也會彼此混淆，python 很方便地讓參數能夠有預設的數值，一旦呼叫函式的時候沒有指定該變數的數值，預設值將會被採用。\n",
    "\n",
    "常用的 `print` 函式也使用了這個功能:\n",
    "```python\n",
    "print(value, ..., sep=' ', end='\\n', file=sys.stdout, flush=False)\n",
    "```\n",
    "\n",
    "`value` 是我們要印出來的內容，但後面的參數 `sep`, `end`, `file`, `flush` 都已經有寫好的數值了，因此我們可以只輸入 `value` 就印出我們的變數，如果想改動印完之後的行為的話，將變數傳到 `end` 裡面就可以了。"
   ]
  },
  {
   "cell_type": "code",
   "execution_count": 37,
   "metadata": {},
   "outputs": [
    {
     "name": "stdout",
     "output_type": "stream",
     "text": [
      "0\n",
      "0 1 2 3 4 "
     ]
    }
   ],
   "source": [
    "print(0) # 原本我們常用的形式\n",
    "\n",
    "for i in range(5):\n",
    "    print(i, end=\" \") # 將 \" \" 作為參數 end 的值"
   ]
  },
  {
   "cell_type": "markdown",
   "metadata": {},
   "source": [
    "另一個範例是解析 (parse) CSV 格式的內容，大部分時候 CSV 會是以 `,` 分隔資料，但是也有可能會遇見使用其他分隔符號的檔案。\n",
    "\n",
    "下面的程式碼參考了 Homework 4 Solution 的程式碼，將解析 CSV 檔案內容的部分包裝成一個函式，函式接受兩個變數:\n",
    "* `contents` 文字內容\n",
    "* `delimiter` 分隔符號 (預設為 `,`)\n",
    "\n",
    "並回傳欄位名稱及資料內容 (2 維 list，一個 list 裡面裝了許多 list)\n",
    "\n",
    "注意: 擁有預設值的變數必須要在後方，也就是說 `def parse_csv(delimiter=\",\", contents):` 是會出錯的"
   ]
  },
  {
   "cell_type": "code",
   "execution_count": 47,
   "metadata": {},
   "outputs": [
    {
     "data": {
      "text/plain": [
       "(['名字', '粽子', '數量'],\n",
       " [['0', '豆沙粽', '一個'],\n",
       "  ['1', '藍家割包', '一個'],\n",
       "  ['2', '藍家割包', '一個'],\n",
       "  ['3', '南部粽', '一個'],\n",
       "  ['4', '藍家割包', '一個'],\n",
       "  ['5', '藍家割包', '二個'],\n",
       "  ['6', '藍家割包', '一個'],\n",
       "  ['7', '藍家割包', '一個'],\n",
       "  ['8', '福州粽', '一個'],\n",
       "  ['9', '福州粽', '一個'],\n",
       "  ['10', '藍家割包', '一個'],\n",
       "  ['11', '福州粽', '一個'],\n",
       "  ['12', '福州粽', '一個'],\n",
       "  ['13', '藍家割包', '一個'],\n",
       "  ['14', '豆沙粽', '二個']])"
      ]
     },
     "execution_count": 47,
     "metadata": {},
     "output_type": "execute_result"
    }
   ],
   "source": [
    "def parse_csv(contents, delimiter = \",\"):\n",
    "    lines = contents.strip().splitlines()\n",
    "    header = lines[0].split(delimiter) # 假設第一列 (row) 是欄位名稱\n",
    "    results = []\n",
    "\n",
    "    for line in lines[1:]:\n",
    "        values = line.split(delimiter)\n",
    "        results.append(values)\n",
    "\n",
    "    return header, results\n",
    "\n",
    "\n",
    "reply = \"\"\"名字,粽子,數量\n",
    "0,豆沙粽,一個\n",
    "1,藍家割包,一個\n",
    "2,藍家割包,一個\n",
    "3,南部粽,一個\n",
    "4,藍家割包,一個\n",
    "5,藍家割包,二個\n",
    "6,藍家割包,一個\n",
    "7,藍家割包,一個\n",
    "8,福州粽,一個\n",
    "9,福州粽,一個\n",
    "10,藍家割包,一個\n",
    "11,福州粽,一個\n",
    "12,福州粽,一個\n",
    "13,藍家割包,一個\n",
    "14,豆沙粽,二個\n",
    "\"\"\"\n",
    "\n",
    "\n",
    "parse_csv(reply) # 執行函式"
   ]
  },
  {
   "cell_type": "markdown",
   "metadata": {},
   "source": [
    "只寫 `parse_csv(reply)` 就能夠解析分隔符為 `,` 的 CSV 檔案。而如果今天分隔符變成空白，只要再額外指定 `delimiter=\" \"` 就好。"
   ]
  },
  {
   "cell_type": "code",
   "execution_count": 49,
   "metadata": {},
   "outputs": [
    {
     "data": {
      "text/plain": [
       "(['名字', '粽子', '數量'],\n",
       " [['0', '豆沙粽', '一個'],\n",
       "  ['1', '藍家割包', '一個'],\n",
       "  ['2', '藍家割包', '一個'],\n",
       "  ['3', '南部粽', '一個'],\n",
       "  ['4', '藍家割包', '一個'],\n",
       "  ['5', '藍家割包', '二個'],\n",
       "  ['6', '藍家割包', '一個'],\n",
       "  ['7', '藍家割包', '一個'],\n",
       "  ['8', '福州粽', '一個'],\n",
       "  ['9', '福州粽', '一個'],\n",
       "  ['10', '藍家割包', '一個'],\n",
       "  ['11', '福州粽', '一個'],\n",
       "  ['12', '福州粽', '一個'],\n",
       "  ['13', '藍家割包', '一個'],\n",
       "  ['14', '豆沙粽', '二個']])"
      ]
     },
     "execution_count": 49,
     "metadata": {},
     "output_type": "execute_result"
    }
   ],
   "source": [
    "reply_2 = reply.replace(\",\", \" \") # 把 \",\" 替換成 空格 \" \"\n",
    "\n",
    "parse_csv(reply_2, delimiter=\" \")"
   ]
  },
  {
   "cell_type": "markdown",
   "metadata": {},
   "source": [
    "# 命名空間\n",
    "前面提過函式外面是不能存取裡面的變數的，但是函式內可以取得外面的變數，下面是一個例子"
   ]
  },
  {
   "cell_type": "code",
   "execution_count": 53,
   "metadata": {},
   "outputs": [
    {
     "name": "stdout",
     "output_type": "stream",
     "text": [
      "0\n",
      "1\n"
     ]
    }
   ],
   "source": [
    "x = 0\n",
    "def print_x():\n",
    "    print(x)\n",
    "\n",
    "print_x()\n",
    "\n",
    "x += 1\n",
    "print_x() # 外面的 x + 1 影響了輸出的結果，證明函式確實能存取外面的 x"
   ]
  },
  {
   "cell_type": "markdown",
   "metadata": {},
   "source": [
    "這樣的設計是有好處的，如果函式需要存取許多的常數，就不用額外寫在函式內或甚至當作函式的變數了。\n",
    "\n",
    "那如果我函式內又定義了 `x` 呢? 我們一起看看下面的程式碼"
   ]
  },
  {
   "cell_type": "code",
   "execution_count": 61,
   "metadata": {},
   "outputs": [
    {
     "name": "stdout",
     "output_type": "stream",
     "text": [
      "100\n"
     ]
    }
   ],
   "source": [
    "x = 0 # 外面的 x\n",
    "def print_x_1():\n",
    "    x = 100 # 裡面的 x\n",
    "    print(x)\n",
    "\n",
    "print_x_1()"
   ]
  },
  {
   "cell_type": "markdown",
   "metadata": {},
   "source": [
    "如果是 `print(x)` 是存取到外面的 `x` 那就會印出 `0`，否則會印出 `100`。所以這裡很明顯是存取到函式內的 `x` 了，並且在函式外的 `x` 仍然是當初定義的 `0`\n",
    "\n",
    "所以在變數命名上我們有更大的彈性了，函式內定義的變數只需要考慮同個函式內是否有命名衝突就好。"
   ]
  },
  {
   "cell_type": "code",
   "execution_count": 62,
   "metadata": {},
   "outputs": [
    {
     "data": {
      "text/plain": [
       "0"
      ]
     },
     "execution_count": 62,
     "metadata": {},
     "output_type": "execute_result"
    }
   ],
   "source": [
    "x"
   ]
  },
  {
   "cell_type": "markdown",
   "metadata": {},
   "source": [
    "## `UnboundLocalError`\n",
    "這是一個不好理解的 Error，但是 Error message 大同小異，基本上都是變數在被賦予數值前就被存取了，導致程式無法存取有效的數值。"
   ]
  },
  {
   "cell_type": "code",
   "execution_count": 83,
   "metadata": {},
   "outputs": [
    {
     "ename": "UnboundLocalError",
     "evalue": "local variable 'x' referenced before assignment",
     "output_type": "error",
     "traceback": [
      "\u001b[0;31m---------------------------------------------------------------------------\u001b[0m",
      "\u001b[0;31mUnboundLocalError\u001b[0m                         Traceback (most recent call last)",
      "Cell \u001b[0;32mIn[83], line 6\u001b[0m\n\u001b[1;32m      3\u001b[0m \u001b[39mdef\u001b[39;00m \u001b[39madd_x\u001b[39m(value):\n\u001b[1;32m      4\u001b[0m     x \u001b[39m+\u001b[39m\u001b[39m=\u001b[39m value\n\u001b[0;32m----> 6\u001b[0m add_x(\u001b[39m10\u001b[39;49m)\n",
      "Cell \u001b[0;32mIn[83], line 4\u001b[0m, in \u001b[0;36madd_x\u001b[0;34m(value)\u001b[0m\n\u001b[1;32m      3\u001b[0m \u001b[39mdef\u001b[39;00m \u001b[39madd_x\u001b[39m(value):\n\u001b[0;32m----> 4\u001b[0m     x \u001b[39m+\u001b[39m\u001b[39m=\u001b[39m value\n",
      "\u001b[0;31mUnboundLocalError\u001b[0m: local variable 'x' referenced before assignment"
     ]
    }
   ],
   "source": [
    "x = 0\n",
    "\n",
    "def add_x(value):\n",
    "    x += value\n",
    "\n",
    "add_x(10)"
   ]
  },
  {
   "cell_type": "markdown",
   "metadata": {},
   "source": [
    "### 但如果今天在外面的變數是 `list`, `dict`, `set`\n",
    "\n",
    "但如果今天換成是 `list`，不是 `int` 就不會引發這個錯誤，原因是因為 **python 認為變數沒有改變**\n",
    "\n",
    "因為容器本身沒有改變，改變的只有裡面裝了甚麼。"
   ]
  },
  {
   "cell_type": "code",
   "execution_count": 81,
   "metadata": {},
   "outputs": [
    {
     "name": "stdout",
     "output_type": "stream",
     "text": [
      "[1, 2, 3, 4]\n"
     ]
    }
   ],
   "source": [
    "l = [1, 2, 3]\n",
    "def append_4():\n",
    "    l.append(4)\n",
    "\n",
    "append_4()\n",
    "print(l)"
   ]
  },
  {
   "cell_type": "markdown",
   "metadata": {},
   "source": [
    "### 這樣限制的原因\n",
    "Pyhton 的精神強調明確的寫法，因此如果有改變變數的話建議明確地寫出來，相加就明確的寫 `+`，而一個有回傳結果的函式也更好檢查是否按照預期執行。"
   ]
  },
  {
   "cell_type": "markdown",
   "metadata": {},
   "source": [
    "# 註解\n",
    "其實函式本身也可加上對於參數意義與函式本身的註解，有了這些註解能夠更明確的知道這個函式究竟在做些甚麼，避免幾個月後回來看完全不知道自己該如何給予變數。\n",
    "\n",
    "拿剛剛的一元二次方程式公式解函式當例子，其實沒有明確的寫下 a, b, c 究竟是甚麼，也沒有說明這個函式並不支援給出複數的答案 (當 $b ^ 2 - 4ac < 0$ 的時候案會是錯誤的)，這些都是值得說明的內容。\n",
    "\n",
    "我們只要在函式開始的地方加上一個長字串，python 就會自動視為是這個函式的註解。"
   ]
  },
  {
   "cell_type": "code",
   "execution_count": null,
   "metadata": {},
   "outputs": [],
   "source": [
    "def solve_quadratic(a, b, c):\n",
    "    \"\"\"\n",
    "    Returning a tuple including two analytical solutions of quadratic equation,\n",
    "    where the form of quadratic equation is\n",
    "    a^2 x + b x + c = 0\n",
    "\n",
    "    ### Parameters\n",
    "     - `a: int | float`\n",
    "     - `b: int | float`\n",
    "     - `c: int | float`\n",
    "    \"\"\"\n",
    "    sqrt_part = (b ** 2 - 4 * a * c) ** 0.5\n",
    "    x_1 = (-b + sqrt_part) / (2 * a)\n",
    "    x_2 = (-b - sqrt_part) / (2 * a)\n",
    "    return x_1, x_2"
   ]
  },
  {
   "cell_type": "markdown",
   "metadata": {},
   "source": [
    "## type hint 型態提示\n",
    "在參數的部分也可以提示說這個參數應該要是哪些型態，但是這些提示並不會被 python 用來檢查變數的型態是否符合，只是給人看的筆記而已。但如果我們要開始使用別人寫的函式的話，僅僅是型態提示就能夠猜出如何使用這個函式了\n",
    "\n",
    "在[官方文件](https://docs.python.org/zh-tw/3.9/library/typing.html)有關於 typing 更多的說明。"
   ]
  },
  {
   "cell_type": "code",
   "execution_count": null,
   "metadata": {},
   "outputs": [],
   "source": [
    "from typing import Union\n",
    "\n",
    "def solve_quadratic(\n",
    "    a: Union[int, float],\n",
    "    b: Union[int, float],\n",
    "    c: Union[int, float],\n",
    "):\n",
    "    \"\"\"\n",
    "    Returning a tuple including two analytical solutions of quadratic equation,\n",
    "    where the form of quadratic equation is\n",
    "    a^2 x + b x + c = 0\n",
    "\n",
    "    ### Parameters\n",
    "     - `a: int | float`\n",
    "     - `b: int | float`\n",
    "     - `c: int | float`\n",
    "    \"\"\"\n",
    "    sqrt_part = (b ** 2 - 4 * a * c) ** 0.5\n",
    "    x_1 = (-b + sqrt_part) / (2 * a)\n",
    "    x_2 = (-b - sqrt_part) / (2 * a)\n",
    "    return x_1, x_2"
   ]
  }
 ],
 "metadata": {
  "kernelspec": {
   "display_name": "Python 3",
   "language": "python",
   "name": "python3"
  },
  "language_info": {
   "codemirror_mode": {
    "name": "ipython",
    "version": 3
   },
   "file_extension": ".py",
   "mimetype": "text/x-python",
   "name": "python",
   "nbconvert_exporter": "python",
   "pygments_lexer": "ipython3",
   "version": "3.9.17"
  },
  "orig_nbformat": 4
 },
 "nbformat": 4,
 "nbformat_minor": 2
}
