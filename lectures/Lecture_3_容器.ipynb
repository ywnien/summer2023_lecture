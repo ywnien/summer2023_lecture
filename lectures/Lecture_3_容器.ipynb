{
  "cells": [
    {
      "attachments": {},
      "cell_type": "markdown",
      "metadata": {
        "id": "0OfBHLu24S2H"
      },
      "source": [
        "# 串列 (list)\n",
        "\n",
        "串列 (list) 是將一連串的元素，只要依據某個元素在序列中的索引 (index)，就可以將之取出。\n",
        "\n",
        "每個元素可以是 `int`, `float`... 等任意型態\n",
        "\n",
        "## 取出元素\n",
        "* 使用中括號 `[ ]` 來取出串列中特定位置的元素。\n",
        "* 編號是**從 0 開始數**\n",
        "* 也可以倒過來數，**負數 -1 則表示從串列倒數第 1 個位置**。"
      ]
    },
    {
      "cell_type": "code",
      "execution_count": 9,
      "metadata": {
        "colab": {
          "base_uri": "https://localhost:8080/"
        },
        "id": "7LRcAzk-4WXa",
        "outputId": "1d8a4d46-a6f2-4821-8973-8851dcee9f23"
      },
      "outputs": [
        {
          "name": "stdout",
          "output_type": "stream",
          "text": [
            "['apple', 'banana', 'orange', 'grape', 3]\n"
          ]
        }
      ],
      "source": [
        "grape = 'grape'\n",
        "three = 3 # 資料的型態不一定要一樣\n",
        "fruits = ['apple','banana','orange', grape, three] # 當然 list 裡面可以放已經建立的變數\n",
        "print(fruits)"
      ]
    },
    {
      "attachments": {},
      "cell_type": "markdown",
      "metadata": {
        "id": "Wz8kUmg697vY"
      },
      "source": [
        "我們用費式數列來看每個位置的編號\n",
        "\n",
        "```\n",
        "fibonacci sequence 費氏數列\n",
        "+---+---+---+---+---+---+\n",
        "| 1 | 1 | 2 | 3 | 5 | 8 |\n",
        "+---+---+---+---+---+---+\n",
        "  0   1   2   3   4   5\n",
        " -6  -5  -4  -3  -2  -1\n",
        "```"
      ]
    },
    {
      "cell_type": "code",
      "execution_count": 15,
      "metadata": {},
      "outputs": [
        {
          "name": "stdout",
          "output_type": "stream",
          "text": [
            "[1, 1, 2, 3, 5, 8]\n",
            "1\n",
            "2\n",
            "5\n",
            "5\n"
          ]
        }
      ],
      "source": [
        "fibonacci = [1, 1, 2, 3, 5, 8]\n",
        "print(fibonacci)\n",
        "print(fibonacci[0]) # 費式數列第一個\n",
        "print(fibonacci[2]) # 費式數列第三個\n",
        "print(fibonacci[4]) # 費式數列第五個\n",
        "print(fibonacci[-2]) # 費式數列倒數第二個"
      ]
    },
    {
      "attachments": {},
      "cell_type": "markdown",
      "metadata": {},
      "source": [
        "## 取出部分元素\n",
        "`[ ]` 其實不只支援取出一個元素，還可以取出一段元素\n",
        "\n",
        "---\n",
        "#### Syntax\n",
        "\n",
        "```python\n",
        "a_list[START:STOP]\n",
        "```\n",
        "---\n",
        "START 和 STOP 都是整數，兩個數字都是索引的數值。\n",
        "START 是起始元素的索引，STOP 是數到這個索引的時候會**停止**。因此 `[0:3]` 可以理解成: 從 `0` 開始數，直到數到 `3` 的時候停下來 (不包含 `3`) "
      ]
    },
    {
      "cell_type": "code",
      "execution_count": 12,
      "metadata": {},
      "outputs": [
        {
          "name": "stdout",
          "output_type": "stream",
          "text": [
            "[0, 1, 2]\n",
            "[0, 1, 2]\n"
          ]
        }
      ],
      "source": [
        "numbers = [0, 1, 2, 3, 4, 5]\n",
        "\n",
        "print(numbers[0:3]) # [0, 1, 2] 是數到 3 的時候停下來，因此只有第 0, 1, 2 個元素\n",
        "print(numbers[:3]) # [0, 1, 2] 如果是 0 的情況可以省略"
      ]
    },
    {
      "attachments": {},
      "cell_type": "markdown",
      "metadata": {},
      "source": [
        "而如果是要擷取某個元素開始之後的所有元素，比起寫 `numbers[3:len(numbers)]`，在 python 可以直接寫 `numbers[3:]` 就好"
      ]
    },
    {
      "cell_type": "code",
      "execution_count": 14,
      "metadata": {},
      "outputs": [
        {
          "name": "stdout",
          "output_type": "stream",
          "text": [
            "[3, 4, 5]\n",
            "[3, 4, 5]\n"
          ]
        }
      ],
      "source": [
        "print(numbers[3:len(numbers)])\n",
        "print(numbers[3:]) # 直到結尾的話也可以省略"
      ]
    },
    {
      "cell_type": "markdown",
      "metadata": {
        "id": "Lhw7a6hhRPbm"
      },
      "source": [
        "### 字串也是一種 `list`"
      ]
    },
    {
      "cell_type": "code",
      "execution_count": null,
      "metadata": {
        "colab": {
          "base_uri": "https://localhost:8080/"
        },
        "id": "kjzhhrpnRSmG",
        "outputId": "c4cf6c68-b837-4f8f-a3c3-2720259186ae"
      },
      "outputs": [
        {
          "name": "stdout",
          "output_type": "stream",
          "text": [
            "a\n",
            "e\n"
          ]
        }
      ],
      "source": [
        "apple = \"apple\"\n",
        "print(apple[0])\n",
        "print(apple[-1])"
      ]
    },
    {
      "cell_type": "markdown",
      "metadata": {
        "id": "oNXfN5hB-Yoy"
      },
      "source": [
        "### `list` 中裝了多少元素?\n",
        "用 `len` 這個函式來得到一個 `list` 裡面有多少元素。`len` 是 length 的縮寫\n"
      ]
    },
    {
      "cell_type": "code",
      "execution_count": 16,
      "metadata": {
        "colab": {
          "base_uri": "https://localhost:8080/"
        },
        "id": "etWEJkh1-imY",
        "outputId": "6ddce28c-840f-498a-cd46-fa2908fcc0ee"
      },
      "outputs": [
        {
          "name": "stdout",
          "output_type": "stream",
          "text": [
            "新約聖經共有 27 本書\n",
            "舊約聖經共有 39 本書\n",
            "聖經共有 66 本書\n"
          ]
        }
      ],
      "source": [
        "新約聖經 = [\"馬太福音\",\"馬可福音\",\"路加福音\",\"約翰福音\",\"使徒行傳\",\n",
        "        \"羅馬書\",\"哥林多前書\",\"哥林多後書\",\"加拉太書\",\"以弗所書\",\n",
        "        \"腓立比書\",\"歌羅西書\",\"帖撒羅尼迦前書\",\"帖撒羅尼迦後書\",\n",
        "        \"提摩太前書\",\"提摩太後書\",\"提多書\",\"腓利門書\",\"希伯來書\",\n",
        "        \"雅各書\",\"彼得前書\",\"彼得後書\",\"約翰壹書\",\"約翰貳書\",\"約翰參書\",\n",
        "        \"猶大書\",\"啟示錄\"]\n",
        "\n",
        "print(\"新約聖經共有 \" + str(len(新約聖經)) + \" 本書\")\n",
        "\n",
        "舊約聖經 = [\"創世記\",\"出埃及記\",\"利未記\",\"民數記\",\"申命記\",\n",
        "        \"約書亞記\",\"士師記\",\"路得記\",\"撒母耳記上\",\"撒母耳記下\",\n",
        "        \"列王紀上\",\"列王紀下\",\"歷代志上\",\"歷代志下\",\"以斯拉記\",\n",
        "        \"尼希米記\",\"以斯帖記\",\"約伯記\",\"詩篇\",\"箴言\",\"傳道書\",\n",
        "        \"雅歌\",\"以賽亞書\",\"耶利米書\",\"耶利米哀歌\",\"以西結書\",\n",
        "        \"但以理書\",\"何西阿書\",\"約珥書\",\"阿摩司書\",\"俄巴底亞書\",\n",
        "        \"約拿書\",\"彌迦書\",\"那鴻書\",\"哈巴谷書\",\"西番雅書\",\"哈該書\",\n",
        "        \"撒迦利亞書\",\"瑪拉基書\"]\n",
        "print(\"舊約聖經共有 \" + str(len(舊約聖經)) + \" 本書\")\n",
        "\n",
        "聖經 = 舊約聖經 + 新約聖經\n",
        "print(\"聖經共有 \" + str(len(聖經)) + \" 本書\")"
      ]
    },
    {
      "cell_type": "markdown",
      "metadata": {
        "id": "IHHmPje0SDsK"
      },
      "source": [
        "## `list` 相關函式\n",
        "\n",
        "*函式*的英文是\"function\"\n",
        "\n",
        "所謂的 function 是一個建構程式時的小區塊，它就像是一台機器，你可以自行指定它的功能，以及所需要的原料（輸入）、產出（輸出）。\n",
        "\n",
        "舉例來說，自動販賣機就像是一個 function ，他的 input參數 是硬幣和商品的選擇， output 則是你所選的商品。([ref](https://medium.com/ccclub/ccclub-python-for-beginners-tutorial-244862d98c18))\n",
        "\n",
        "Python 的 function 格式是：\n",
        "\n",
        "```\n",
        "[function output] = [function 作用的本體].[function 名稱](function 參數1, function 參數2 ...)\n",
        "```\n",
        "\n",
        "例如：\n",
        "\n",
        "```python\n",
        "l = [1, 2, 3]\n",
        "l.append(5)\n",
        "# `l` 是 function 本體\n",
        "# `append` 是 function 名稱\n",
        "# `5` 是 function 參數\n",
        "# 這個 function 沒有 output\n",
        "```\n",
        "\n",
        "---\n",
        "\n",
        "下面跟大家介紹 `list` 的一些實用 function："
      ]
    },
    {
      "cell_type": "markdown",
      "metadata": {
        "id": "PrdnuMHEy0QF"
      },
      "source": [
        "### 加東西進 `list`\n",
        "`append` 函式可以將東西添加在一個 `list` 的尾端"
      ]
    },
    {
      "cell_type": "code",
      "execution_count": null,
      "metadata": {
        "colab": {
          "base_uri": "https://localhost:8080/"
        },
        "id": "-hIj0oV2zRTZ",
        "outputId": "1f564ad5-f5ea-4162-e101-46bf370b14c8"
      },
      "outputs": [
        {
          "name": "stdout",
          "output_type": "stream",
          "text": [
            "蕭敬騰今晚想訂: ['白玉歐蕾去冰']\n",
            "蕭敬騰今晚想訂: ['白玉歐蕾去冰', '滷肉飯加蛋']\n",
            "蕭敬騰今晚想訂: ['白玉歐蕾去冰', '滷肉飯加蛋', '豬肝炒麵']\n",
            "廣仲說：沒問題，總共3項，我請客！\n"
          ]
        }
      ],
      "source": [
        "# 蕭敬騰確診在家，晚上十一點想吃宵夜...\n",
        "今晚來點什麼 = []\n",
        "今晚來點什麼.append('白玉歐蕾去冰')\n",
        "print('蕭敬騰今晚想訂:', 今晚來點什麼)\n",
        "今晚來點什麼.append('滷肉飯加蛋')\n",
        "print('蕭敬騰今晚想訂:', 今晚來點什麼)\n",
        "\n",
        "今晚來點什麼.append('豬肝炒麵')\n",
        "print('蕭敬騰今晚想訂:', 今晚來點什麼)\n",
        "\n",
        "# 盧廣仲很阿莎莉的說：\n",
        "print('廣仲說：沒問題，總共' + str(len(今晚來點什麼)) + '項，我請客！')\n",
        "\n",
        "# 盧廣仲加點：\n",
        "今晚來點什麼.append('阜杭豆漿')\n",
        "\n",
        "# https://brand.gamaniagroup.com/gvoice/23951/"
      ]
    },
    {
      "cell_type": "markdown",
      "metadata": {
        "id": "5_Qyo_2z3zLy"
      },
      "source": [
        "### `join`: 結合 `list` 內容\n",
        "\n",
        "`join()` 函式可以將一個串列裡面所有的**字串**，用特定符號串連起來變成**單一個字串**"
      ]
    },
    {
      "cell_type": "code",
      "execution_count": null,
      "metadata": {
        "colab": {
          "base_uri": "https://localhost:8080/"
        },
        "id": "nVe9luZf4LJC",
        "outputId": "59c40e38-fc62-49fe-dd3c-5861c9b26958"
      },
      "outputs": [
        {
          "name": "stdout",
          "output_type": "stream",
          "text": [
            "手動串起來: 白玉歐蕾去冰,滷肉飯加蛋,豬肝炒麵\n",
            "用 join 串起來: 白玉歐蕾去冰,滷肉飯加蛋,豬肝炒麵,阜杭豆漿\n",
            "白玉歐蕾去冰 滷肉飯加蛋 豬肝炒麵 阜杭豆漿\n",
            "----------------------\n",
            "Uber Eat 訂單內容：白玉歐蕾去冰, 滷肉飯加蛋, 豬肝炒麵, 阜杭豆漿\n"
          ]
        }
      ],
      "source": [
        "# print(今晚來點什麼)\n",
        "\n",
        "# 壞掉 @_@\n",
        "#all_numbers = [1, 2, 3]\n",
        "#print(\"\".join(all_numbers))\n",
        "\n",
        "print(\"手動串起來:\", 今晚來點什麼[0] + \",\" + 今晚來點什麼[1] + \",\" + 今晚來點什麼[2])\n",
        "all_items = \",\".join(今晚來點什麼) # 使用逗號「,」進行結合\n",
        "print(\"用 join 串起來:\", all_items)\n",
        "\n",
        "all_items = \" \".join(今晚來點什麼) # 使用逗號「空白符號」進行結合\n",
        "print(all_items)\n",
        "\n",
        "print(\"----------------------\")\n",
        "print(\"Uber Eat 訂單內容：\" + \", \".join(今晚來點什麼))"
      ]
    },
    {
      "cell_type": "markdown",
      "metadata": {
        "id": "50nLibRb-yXd"
      },
      "source": [
        "### 取一段元素\n",
        "如果要取得 `list` 當中某段元素，可以使用「slice」的方式\n",
        "\n",
        "slice 的方式為一組方括號、一個 start ( 開始順序 )、一個 end ( 結尾順序 )，他有幾個變種：\n",
        "\n",
        "\n",
        "* `string[start:end]`：取出從 start 位置到 end 的「前一個位置」元素\n",
        "* `string[start:]`: 取出從 start 的位置一直到結束的元素\n",
        "* `string[:end]`：取出從開始一直到 end 的「前一個位置」元素\n",
        "\n"
      ]
    },
    {
      "cell_type": "code",
      "execution_count": null,
      "metadata": {
        "colab": {
          "base_uri": "https://localhost:8080/"
        },
        "id": "WpUaqF9a_mEC",
        "outputId": "34a88c05-cb72-4bf6-a4cc-980f642f1207"
      },
      "outputs": [
        {
          "name": "stdout",
          "output_type": "stream",
          "text": [
            "['一月', '二月', '三月', '四月', '五月']\n",
            "['四月', '五月']\n",
            "['一月', '二月', '三月']\n",
            "['三月', '四月']\n",
            "['二月', '三月']\n"
          ]
        }
      ],
      "source": [
        "month = ['一月', '二月', '三月', '四月', '五月']\n",
        "print(month[:])   # 所有\n",
        "print(month[3:])  # 從第四個直到最後\n",
        "print(month[:3])  # 從第一個直到第三個\n",
        "print(month[2:4]) # 第三個直到第四個\n",
        "print(month[1:-2]) # ( 從 2 開始到倒數第 3 個 ( -2-1 ) )"
      ]
    },
    {
      "cell_type": "code",
      "execution_count": null,
      "metadata": {
        "colab": {
          "base_uri": "https://localhost:8080/"
        },
        "id": "JofpfXck5X-S",
        "outputId": "b6fd48f8-9ce1-4c2b-b0b3-e76d659f659e"
      },
      "outputs": [
        {
          "name": "stdout",
          "output_type": "stream",
          "text": [
            "新約聖經福音書：馬太福音 馬可福音 路加福音 約翰福音\n",
            "----------------------\n",
            "新約聖經最後一本：啟示錄\n",
            "----------------------\n",
            "大先知書：以賽亞書 耶利米書 耶利米哀歌 以西結書 但以理書\n"
          ]
        }
      ],
      "source": [
        "print(\"新約聖經福音書：\" + \" \".join(新約聖經[:4]))\n",
        "\n",
        "print(\"----------------------\")\n",
        "print(\"新約聖經最後一本：\" + 新約聖經[-1])\n",
        "\n",
        "print(\"----------------------\")\n",
        "print(\"大先知書：\" + \" \".join(舊約聖經[22:27]))"
      ]
    },
    {
      "cell_type": "markdown",
      "metadata": {
        "id": "jKiPb_BUWG0i"
      },
      "source": [
        "### 字串拆分\n",
        "\n",
        "`split('分隔符號')` 函式可以將一個字串，根據指定的「分隔符號」，拆分成「list」\n",
        " (list 就是許多值組成的序列，將許多值包覆在方括號裡，並使用逗號分隔 )。\n",
        "\n"
      ]
    },
    {
      "cell_type": "code",
      "execution_count": null,
      "metadata": {
        "colab": {
          "base_uri": "https://localhost:8080/"
        },
        "id": "qvekQ7z48KqF",
        "outputId": "a1b349c8-5e57-41a4-be24-c33d7f5185fe"
      },
      "outputs": [
        {
          "name": "stdout",
          "output_type": "stream",
          "text": [
            "根據空白拆解：\n",
            "['臣', '本', '布', '衣', '，', '躬', '耕', '於', '南', '陽', '，', '苟', '全', '性', '命', '於', '亂', '世', '，', '不', '求', '聞', '達', '於', '諸', '侯', '。', '先', '帝', '不', '以', '臣', '卑', '鄙', '，', '猥', '自', '枉', '屈', '，', '三', '顧', '臣', '於', '草', '廬', '之', '中', '，', '諮', '臣', '以', '當', '世', '之', '事', '；', '由', '是', '感', '激', '，', '遂', '許', '先', '帝', '以', '驅', '馳', '。']\n",
            "----------------------\n",
            "再合起來：\n",
            "臣本布衣，躬耕於南陽，苟全性命於亂世，不求聞達於諸侯。先帝不以臣卑鄙，猥自枉屈，三顧臣於草廬之中，諮臣以當世之事；由是感激，遂許先帝以驅馳。\n",
            "----------------------\n",
            "共拆解成3個句子：\n",
            "句子1： 臣本布衣，躬耕於南陽，苟全性命於亂世，不求聞達於諸侯\n",
            "句子2： 先帝不以臣卑鄙，猥自枉屈，三顧臣於草廬之中，諮臣以當世之事；由是感激，遂許先帝以驅馳\n",
            "句子3： \n",
            "['臣本布衣，躬耕於南陽，苟全性命於亂世，不求聞達於諸侯', '先帝不以臣卑鄙，猥自枉屈，三顧臣於草廬之中，諮臣以當世之事；由是感激，遂許先帝以驅馳', '']\n"
          ]
        }
      ],
      "source": [
        "出師表 = \"臣 本 布 衣 ， 躬 耕 於 南 陽 ， 苟 全 性 命 於 亂 世 ， 不 求 聞 達 於 諸 侯 。 先 帝 不 以 臣 卑 鄙 ， 猥 自 枉 屈 ， 三 顧 臣 於 草 廬 之 中 ， 諮 臣 以 當 世 之 事 ； 由 是 感 激 ， 遂 許 先 帝 以 驅 馳 。\"\n",
        "出師表_拆解 = 出師表.split(' ') # 以空白符號拆解這個字串\n",
        "print(\"根據空白拆解：\")\n",
        "print(出師表_拆解)\n",
        "\n",
        "print(\"----------------------\")\n",
        "出師表_合起來 = \"\".join(出師表_拆解) # 用空的字串合起來\n",
        "print(\"再合起來：\")\n",
        "print(出師表_合起來)\n",
        "\n",
        "print(\"----------------------\")\n",
        "出師表_句子 = 出師表_合起來.split('。') # 以空白符號拆解這個字串\n",
        "print(\"共拆解成\" + str(len(出師表_句子)) + \"個句子：\")\n",
        "print(\"句子1： \" + 出師表_句子[0])\n",
        "print(\"句子2： \" + 出師表_句子[1])\n",
        "print(\"句子3： \" + 出師表_句子[2])\n",
        "print(出師表_句子)"
      ]
    }
  ],
  "metadata": {
    "colab": {
      "collapsed_sections": [
        "3VHOMnTOAaq7",
        "Gd4CdBS6Ap4S",
        "YLHpnA_ZAs1y",
        "8tAfR583AuqL",
        "Pgoxp5aBry_X"
      ],
      "provenance": []
    },
    "kernelspec": {
      "display_name": "Python 3",
      "name": "python3"
    },
    "language_info": {
      "codemirror_mode": {
        "name": "ipython",
        "version": 3
      },
      "file_extension": ".py",
      "mimetype": "text/x-python",
      "name": "python",
      "nbconvert_exporter": "python",
      "pygments_lexer": "ipython3",
      "version": "3.9.17"
    }
  },
  "nbformat": 4,
  "nbformat_minor": 0
}
