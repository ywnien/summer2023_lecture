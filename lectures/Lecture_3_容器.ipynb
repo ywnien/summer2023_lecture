{
  "cells": [
    {
      "cell_type": "markdown",
      "metadata": {},
      "source": [
        "# 容器 Containers\n",
        "\n",
        "容器可以裝入許多變數，妥善運用容器不僅僅是可以處理更複雜的問題，也可以讓我們的程式碼更簡潔也更好除錯。\n",
        "\n",
        "其實在這份 python 官方教學文件中也稱呼它[資料結構](https://docs.python.org/zh-tw/3.9/tutorial/datastructures.html)。\\\n",
        "資料結構與資料之間的關係就像是書架與書本的關係，我們把書本集中到一個地方管理，甚至用索引的方式找出我們想要的書本。\n",
        "\n",
        "我們這次不會深入討論這些容器的細節 (這起碼可以講一個學期)，我們的內容還是著重在如何以 python 完成一些簡單的任務。\\\n",
        "再次強調，python 的優勢就是用簡單的語法完成任務，所以不少的資料結構已經內建在 python 裡面了。\n"
      ]
    },
    {
      "attachments": {},
      "cell_type": "markdown",
      "metadata": {
        "id": "0OfBHLu24S2H"
      },
      "source": [
        "# 串列 `list`\n",
        "\n",
        "串列 (list) 是將一連串的元素，只要依據某個元素在序列中的索引 (index)，就可以將之取出。\n",
        "\n",
        "---\n",
        "#### Syntax\n",
        "```python\n",
        "empty_list = []\n",
        "empty_list = list() # 跟上面一樣\n",
        "\n",
        "numbers = [0, 1, 2, 3, 4, 5] # 裝在容器內的變數以 \",\" 分隔\n",
        "```\n",
        "---\n",
        "\n",
        "## 新增元素\n",
        "```python\n",
        "list.append(object)\n",
        "```\n",
        "在你想要新增元素的 list 後面輸入 `.append(object)`。\n",
        "\n",
        "`object` 的意思是物件，你可以簡單理解成任何變數你都可以放，甚至可以把一個容器裝進另一個\n"
      ]
    },
    {
      "cell_type": "code",
      "execution_count": 17,
      "metadata": {
        "colab": {
          "base_uri": "https://localhost:8080/"
        },
        "id": "7LRcAzk-4WXa",
        "outputId": "1d8a4d46-a6f2-4821-8973-8851dcee9f23"
      },
      "outputs": [
        {
          "name": "stdout",
          "output_type": "stream",
          "text": [
            "[]\n",
            "['apple']\n",
            "['apple', 'banana']\n",
            "['apple', 'banana', 'orange']\n"
          ]
        }
      ],
      "source": [
        "fruits = []\n",
        "print(fruits)\n",
        "fruits.append(\"apple\") # fruits 是已經建立的 list\n",
        "print(fruits)\n",
        "\n",
        "\n",
        "new_fruit = \"banana\"\n",
        "fruits.append(new_fruit)\n",
        "print(fruits)\n",
        "\n",
        "new_fruit = \"orange\"\n",
        "fruits.append(new_fruit)\n",
        "print(fruits)"
      ]
    },
    {
      "attachments": {},
      "cell_type": "markdown",
      "metadata": {
        "id": "Wz8kUmg697vY"
      },
      "source": [
        "## 取出元素\n",
        "* 使用中括號 `[ ]` 來取出串列中特定位置的元素。\n",
        "* 編號是**從 0 開始數**\n",
        "* 也可以倒過來數，**負數 -1 則表示從串列倒數第 1 個位置**。\n",
        "\n",
        "### 我們用從 0 數到 5 的串列來看每個位置的編號\n",
        "\n",
        "```\n",
        "numbers = [0, 1, 2, 3, 4, 5]\n",
        "\n",
        "+---+---+---+---+---+---+\n",
        "| 0 | 1 | 2 | 3 | 4 | 5 |\n",
        "+---+---+---+---+---+---+\n",
        "  0   1   2   3   4   5   <- 從 0 開始數\n",
        " -6  -5  -4  -3  -2  -1   <- 也可以倒著數\n",
        "```"
      ]
    },
    {
      "cell_type": "code",
      "execution_count": 1,
      "metadata": {},
      "outputs": [
        {
          "name": "stdout",
          "output_type": "stream",
          "text": [
            "0\n",
            "2\n"
          ]
        }
      ],
      "source": [
        "numbers = [0, 1, 2, 3, 4, 5]\n",
        "\n",
        "print(numbers[0])\n",
        "print(numbers[2])"
      ]
    },
    {
      "cell_type": "code",
      "execution_count": 3,
      "metadata": {},
      "outputs": [
        {
          "name": "stdout",
          "output_type": "stream",
          "text": [
            "4\n",
            "4\n"
          ]
        }
      ],
      "source": [
        "print(numbers[4])  # 兩者的結果相同哦\n",
        "print(numbers[-2])"
      ]
    },
    {
      "attachments": {},
      "cell_type": "markdown",
      "metadata": {},
      "source": [
        "### 取出部分元素\n",
        "`[ ]` 其實不只支援取出一個元素，我們還可以指定一個範圍，取出範圍中的元素\n",
        "\n",
        "---\n",
        "#### Syntax\n",
        "\n",
        "```python\n",
        "numbers[START:STOP]\n",
        "```\n",
        "---\n",
        "`START` 是起始元素的索引，`STOP` 是數到這個索引的時候會**停止**。\n",
        "\n",
        "因此 `numbers[0:3]` 可以理解成: 從 `0` 開始數，直到數到 `3` 的時候停下來 (不包含 `3`) "
      ]
    },
    {
      "cell_type": "code",
      "execution_count": 8,
      "metadata": {},
      "outputs": [
        {
          "data": {
            "text/plain": [
              "[0, 1, 2]"
            ]
          },
          "execution_count": 8,
          "metadata": {},
          "output_type": "execute_result"
        }
      ],
      "source": [
        "numbers[:3] # [0, 1, 2] 如果是 0 的情況可以省略"
      ]
    },
    {
      "attachments": {},
      "cell_type": "markdown",
      "metadata": {},
      "source": [
        "而如果是要擷取某個元素開始之後的所有元素，比起寫 `numbers[3:len(numbers)]`，在 python 可以直接寫 `numbers[3:]` 就好\n",
        "\n",
        "> `len(object)` 會給出 `object` 中有幾個元素，目前為止課程提到的有 `list` 和 `str` 可以適用，今天會提到更多"
      ]
    },
    {
      "cell_type": "code",
      "execution_count": 13,
      "metadata": {},
      "outputs": [
        {
          "data": {
            "text/plain": [
              "[3, 4, 5]"
            ]
          },
          "execution_count": 13,
          "metadata": {},
          "output_type": "execute_result"
        }
      ],
      "source": [
        "numbers[3:] # 直到結尾的話也可以省略"
      ]
    },
    {
      "attachments": {},
      "cell_type": "markdown",
      "metadata": {},
      "source": [
        "### 設定步數\n",
        "\n",
        "不只是取連續的串列片段，也可以設定步數 (`STEP`) 讓 python 每數過幾個元素後才取值。\n",
        "\n",
        "比如說我想取索引是 0, 2, 4, 6, 8, ... 的所有元素，這個情況的 `STEP` 就是 `2`\n",
        "\n",
        "---\n",
        "#### Syntax\n",
        "```python\n",
        "numbers[START:STOP:STEP]\n",
        "numbers[::STEP] # 如果沒有要指定 START, STOP 的話可以省略\n",
        "```\n",
        "---\n",
        "\n",
        "最常見的應用是取出**逆轉**的序列，只要把 `STEP` 設定 `-1` 就可以了。"
      ]
    },
    {
      "cell_type": "code",
      "execution_count": 15,
      "metadata": {},
      "outputs": [
        {
          "data": {
            "text/plain": [
              "[5, 4, 3, 2, 1, 0]"
            ]
          },
          "execution_count": 15,
          "metadata": {},
          "output_type": "execute_result"
        }
      ],
      "source": [
        "numbers[::-1] # 逆轉"
      ]
    },
    {
      "cell_type": "markdown",
      "metadata": {},
      "source": [
        "## 更改元素\n",
        "\n",
        "list 允許更改容器裡面的元素，我們知道如何指定元素之後，就能用 `=` 改變裡面的元素\n",
        "\n",
        "以 `fruits` 為例，目前 `fruits = ['apple', 'banana', 'orange']`"
      ]
    },
    {
      "cell_type": "code",
      "execution_count": 19,
      "metadata": {},
      "outputs": [
        {
          "data": {
            "text/plain": [
              "['apple', 'banana', 'cherry']"
            ]
          },
          "execution_count": 19,
          "metadata": {},
          "output_type": "execute_result"
        }
      ],
      "source": [
        "fruits[2] = \"cherry\"\n",
        "fruits # orange 變成 cherry 了"
      ]
    },
    {
      "cell_type": "markdown",
      "metadata": {},
      "source": [
        "# 字串 `str`\n",
        "\n",
        "其實 list 取出元素的方式，也適用在字串上。"
      ]
    },
    {
      "cell_type": "code",
      "execution_count": 22,
      "metadata": {},
      "outputs": [
        {
          "data": {
            "text/plain": [
              "'s'"
            ]
          },
          "execution_count": 22,
          "metadata": {},
          "output_type": "execute_result"
        }
      ],
      "source": [
        "word = \"desserts\"\n",
        "word[-1]"
      ]
    },
    {
      "cell_type": "code",
      "execution_count": 52,
      "metadata": {},
      "outputs": [
        {
          "data": {
            "text/plain": [
              "'stressed'"
            ]
          },
          "execution_count": 52,
          "metadata": {},
          "output_type": "execute_result"
        }
      ],
      "source": [
        "word[::-1]"
      ]
    },
    {
      "cell_type": "markdown",
      "metadata": {},
      "source": [
        "## 不能更改元素\n",
        "\n",
        "字串並不像 list 可以自由地更改元素，他會直接丟出 `TypeError` 說我不支援這件事情\n",
        "\n",
        "不過字串也提供許多方法來完成相關的任務，如果是要開頭大寫的話可以用 `str.capitalize()` 完成\n",
        "\n",
        "更多細節可以參考[官方文件](https://docs.python.org/3.9/library/stdtypes.html#string-methods)"
      ]
    },
    {
      "cell_type": "code",
      "execution_count": 77,
      "metadata": {},
      "outputs": [
        {
          "ename": "TypeError",
          "evalue": "'str' object does not support item assignment",
          "output_type": "error",
          "traceback": [
            "\u001b[0;31m---------------------------------------------------------------------------\u001b[0m",
            "\u001b[0;31mTypeError\u001b[0m                                 Traceback (most recent call last)",
            "Cell \u001b[0;32mIn[77], line 1\u001b[0m\n\u001b[0;32m----> 1\u001b[0m word[\u001b[39m0\u001b[39;49m] \u001b[39m=\u001b[39m \u001b[39m\"\u001b[39m\u001b[39mD\u001b[39m\u001b[39m\"\u001b[39m\n",
            "\u001b[0;31mTypeError\u001b[0m: 'str' object does not support item assignment"
          ]
        }
      ],
      "source": [
        "word[0] = \"D\""
      ]
    },
    {
      "cell_type": "code",
      "execution_count": 89,
      "metadata": {},
      "outputs": [
        {
          "data": {
            "text/plain": [
              "'Desserts'"
            ]
          },
          "execution_count": 89,
          "metadata": {},
          "output_type": "execute_result"
        }
      ],
      "source": [
        "word.capitalize()"
      ]
    },
    {
      "cell_type": "markdown",
      "metadata": {
        "id": "5_Qyo_2z3zLy"
      },
      "source": [
        "### `str.join(iterator)`\n",
        "\n",
        "`str.join(iterator)` 可以將迭代器 iterator 裡面所有的**字串**，以字串作為分隔符號串連起來變成**單一個字串**\n",
        "* 迭代器 iterator 是總稱，list 是迭代器\n",
        "* 其實字串本身也可以是迭代器\n",
        "\n"
      ]
    },
    {
      "cell_type": "code",
      "execution_count": 141,
      "metadata": {},
      "outputs": [
        {
          "name": "stdout",
          "output_type": "stream",
          "text": [
            "['apple', 'banana', 'cherry']\n",
            "apple! banana! cherry\n",
            "a-p-p-l-e\n"
          ]
        }
      ],
      "source": [
        "print(fruits)\n",
        "print(\"! \".join(fruits)) # fruit 有 3 個元素，只有出現兩個 !\n",
        "\n",
        "print(\"-\".join(fruits[0])) # fruit[0] 是 \"apple\""
      ]
    },
    {
      "cell_type": "markdown",
      "metadata": {},
      "source": [
        "# 字典 `dict`\n",
        "\n",
        "字典的概念是以一個值當作鍵值 key 查詢後，會給出對應的值 value。\n",
        "\n",
        "一個生活中會遇到的例子就是菜單，我們看到商品名稱，然後得到旁邊寫的價格。\n",
        "\n",
        "---\n",
        "#### Syntax\n",
        "```python\n",
        "empty_dict = {}\n",
        "empty_dict = dict() # 和上面一樣\n",
        "\n",
        "menu = {\"甘蔗清茶\": 55, \"黃金香橙大吉嶺\": 60} # 以 : 分隔哦\n",
        "```\n",
        "---\n",
        "\n",
        "在字典的後方一樣可以加上中括號 `[]` 取值，只是這時候變成要寫鍵值到括號裡面"
      ]
    },
    {
      "cell_type": "code",
      "execution_count": 35,
      "metadata": {},
      "outputs": [
        {
          "name": "stdout",
          "output_type": "stream",
          "text": [
            "{'甘蔗清茶': 55, '黃金香橙大吉嶺': 60}\n",
            "60\n"
          ]
        }
      ],
      "source": [
        "menu = {\"甘蔗清茶\": 55, \"黃金香橙大吉嶺\": 60}\n",
        "print(menu)\n",
        "print(menu[\"黃金香橙大吉嶺\"])"
      ]
    },
    {
      "cell_type": "markdown",
      "metadata": {},
      "source": [
        "## 新增元素\n",
        "\n",
        "字典新增元素很簡單，不用呼叫甚麼函式或方法。\n",
        "\n",
        "---\n",
        "#### Syntax\n",
        "```python\n",
        "menu[new_key] = new_value\n",
        "```\n",
        "---\n"
      ]
    },
    {
      "cell_type": "code",
      "execution_count": 36,
      "metadata": {},
      "outputs": [
        {
          "name": "stdout",
          "output_type": "stream",
          "text": [
            "{'甘蔗清茶': 55, '黃金香橙大吉嶺': 60, '皇家拿鐵': 55}\n"
          ]
        }
      ],
      "source": [
        "menu[\"皇家拿鐵\"] = 55\n",
        "print(menu)"
      ]
    },
    {
      "cell_type": "markdown",
      "metadata": {},
      "source": [
        "## 當鍵值重複的時候\n",
        "\n",
        "新的值會**覆蓋**舊的值。\n",
        "\n",
        "`dict` 不會同時儲存兩個對應的值，下面示範覆蓋舊的值的情況"
      ]
    },
    {
      "cell_type": "code",
      "execution_count": 38,
      "metadata": {},
      "outputs": [
        {
          "name": "stdout",
          "output_type": "stream",
          "text": [
            "{'甘蔗清茶': 55, '黃金香橙大吉嶺': 48, '皇家拿鐵': 55}\n"
          ]
        }
      ],
      "source": [
        "menu[\"黃金香橙大吉嶺\"] = 48\n",
        "print(menu)"
      ]
    },
    {
      "cell_type": "markdown",
      "metadata": {},
      "source": [
        "## 與 list 搭配使用\n",
        "\n",
        "當資料越來越多的時候，兩者搭配使用可以減少變數的數量，使用靈活 list 和 dict 是處理大量資料的起點\n",
        "\n",
        "拿 Homework 2 part 2 舉例"
      ]
    },
    {
      "cell_type": "code",
      "execution_count": 42,
      "metadata": {},
      "outputs": [
        {
          "name": "stdout",
          "output_type": "stream",
          "text": [
            "[-5, 12, 1, 13, 16, 8] : False\n"
          ]
        }
      ],
      "source": [
        "testcases = {\n",
        "    \"input\": [\n",
        "        [-5, 12, 1, 13, 16, 8],\n",
        "        [1234, 5678, 1234, 5678, 1234, 5678],\n",
        "        [52634, 7421, -9285, 45013, 52634, 7421],\n",
        "        [2578, 5169, -5, 3, -42309, -84605],\n",
        "    ],\n",
        "    \"result\": [\n",
        "        False,\n",
        "        True,\n",
        "        True,\n",
        "        True,\n",
        "    ],\n",
        "}\n",
        "print(testcases[\"input\"][0], \":\", testcases[\"result\"][0])"
      ]
    },
    {
      "cell_type": "markdown",
      "metadata": {},
      "source": [
        "# 集合 Set\n",
        "\n",
        "集合裡面的元素不會重複，如果想要找出不重複的元素時很好用\n",
        "\n",
        "---\n",
        "#### Syntax\n",
        "```python\n",
        "empty_set = set() # 只有以函式的方式才能建立空 set\n",
        "\n",
        "unique_nums = set(nums) # nums 是 iterator\n",
        "unique_nums = {1, 4, 2, 4, 4, 2, 1, 3, 4, 0}\n",
        "```\n",
        "---\n",
        "\n",
        "通常都是有了一個容器後，想要找出其獨立的元素時會使用，也就是上面第二行的情況"
      ]
    },
    {
      "cell_type": "code",
      "execution_count": 43,
      "metadata": {},
      "outputs": [
        {
          "name": "stdout",
          "output_type": "stream",
          "text": [
            "{0, 1, 2, 4}\n",
            "{0, 1, 2, 4}\n"
          ]
        }
      ],
      "source": [
        "nums = [1, 4, 2, 4, 0]\n",
        "unique_nums = set(nums)\n",
        "\n",
        "print(unique_nums)\n",
        "print({1, 4, 2, 4, 0})"
      ]
    },
    {
      "cell_type": "markdown",
      "metadata": {},
      "source": [
        "# 容器之間的共同之處\n",
        "## 迭代器 iterator\n",
        "\n",
        "迭代器 iterator 的定義很單純，迭代器可以在 for loop 將其內部的元素傳到指定的變數裡。\n",
        "\n",
        "### Example\n",
        "在 Lecture 2 的最後有提到這些程式碼\n",
        "```python\n",
        "food_expenses = [145, 75, 100] # 三餐的費用\n",
        "for price in food_expenses:\n",
        "    print(price) # 在 for loop 裡面做的事情記得要縮排!\n",
        "```\n",
        "\n",
        "這段做的事情就是將 `food_expenses` 的元素複製到 `price` 裡，接著印出 `price` 後，再將下一個元素複製到 `price` 後印出，直到結束。"
      ]
    },
    {
      "cell_type": "code",
      "execution_count": 44,
      "metadata": {},
      "outputs": [
        {
          "name": "stdout",
          "output_type": "stream",
          "text": [
            "145\n",
            "75\n",
            "100\n"
          ]
        }
      ],
      "source": [
        "food_expenses = [145, 75, 100] # 三餐的費用\n",
        "for price in food_expenses:\n",
        "    print(price) # 在 for loop 裡面做的事情記得要縮排!"
      ]
    },
    {
      "cell_type": "markdown",
      "metadata": {},
      "source": [
        "這正是因為 list 是迭代器而能這麼寫，字串、字典、集合也都是迭代器。\n",
        "\n",
        "在 python 檢驗是不是迭代器的方法也很簡單，把他換到上面 `food_expenses` 的部分就知道能不能當迭代器了。\n",
        "\n",
        "### 字串"
      ]
    },
    {
      "cell_type": "code",
      "execution_count": 143,
      "metadata": {},
      "outputs": [
        {
          "name": "stdout",
          "output_type": "stream",
          "text": [
            "a\n",
            "p\n",
            "p\n",
            "l\n",
            "e\n"
          ]
        }
      ],
      "source": [
        "for i in \"apple\": # 字串的情況\n",
        "    print(i)"
      ]
    },
    {
      "cell_type": "markdown",
      "metadata": {},
      "source": [
        "### 集合\n",
        "集合並不保證出來元素的順序，所以如果是有先後需求的情況可能還是要用其他的容器替代。這邊的結果由小到大排列只是巧合"
      ]
    },
    {
      "cell_type": "code",
      "execution_count": 145,
      "metadata": {},
      "outputs": [
        {
          "name": "stdout",
          "output_type": "stream",
          "text": [
            "0\n",
            "1\n",
            "2\n",
            "4\n"
          ]
        }
      ],
      "source": [
        "for num in unique_nums:\n",
        "    print(num)"
      ]
    },
    {
      "cell_type": "markdown",
      "metadata": {},
      "source": [
        "### 字典\n",
        "字典的情況比較特別一些，在 for loop 裡面只會丟出鍵值，如果要取出對應的 value 可以以鍵取值，舉例:"
      ]
    },
    {
      "cell_type": "code",
      "execution_count": 46,
      "metadata": {},
      "outputs": [
        {
          "name": "stdout",
          "output_type": "stream",
          "text": [
            "甘蔗清茶 : 55\n",
            "黃金香橙大吉嶺 : 48\n",
            "皇家拿鐵 : 55\n"
          ]
        }
      ],
      "source": [
        "for drink in menu:\n",
        "    print(drink, \":\", menu[drink])"
      ]
    },
    {
      "cell_type": "markdown",
      "metadata": {},
      "source": [
        "### 補充： 其他常用迭代器\n",
        "* `range(START, STOP, STEP)`: 從 START 數到 STOP 為止\n",
        "* `enumerate(iterator)`: 給出元素的編號及元素本身\n",
        "* `zip(iterator_1, iterator_2, ...)`: 同時迭代多個迭代器\n",
        "\n",
        "還有[更多迭代器](https://docs.python.org/3/library/itertools.html)可以選擇"
      ]
    },
    {
      "cell_type": "code",
      "execution_count": 154,
      "metadata": {},
      "outputs": [
        {
          "name": "stdout",
          "output_type": "stream",
          "text": [
            "[0, 1, 2, 3, 4, 5, 6, 7, 8, 9]\n",
            "[0, 1, 2, 3, 4, 5, 6, 7, 8, 9]\n"
          ]
        }
      ],
      "source": [
        "numbers = []\n",
        "for i in range(10):\n",
        "    numbers.append(i)\n",
        "\n",
        "print(numbers)\n",
        "print(list(range(10))) # 也可以這樣快速建立 list"
      ]
    },
    {
      "cell_type": "code",
      "execution_count": 156,
      "metadata": {},
      "outputs": [
        {
          "name": "stdout",
          "output_type": "stream",
          "text": [
            "[1, 4, 2, 4, 0]\n",
            "0 : 1\n",
            "1 : 4\n",
            "2 : 2\n",
            "3 : 4\n",
            "4 : 0\n"
          ]
        }
      ],
      "source": [
        "print(nums)\n",
        "for index, num in enumerate(nums): # index 從 0 往上數值到結束\n",
        "    print(index, \":\", num)"
      ]
    },
    {
      "cell_type": "code",
      "execution_count": 155,
      "metadata": {},
      "outputs": [
        {
          "name": "stdout",
          "output_type": "stream",
          "text": [
            "1 0\n",
            "4 1\n",
            "2 2\n",
            "4 3\n",
            "0 4\n"
          ]
        }
      ],
      "source": [
        "for i, j in zip(nums, numbers): # 一但有迭代器停止就會停下來\n",
        "    print(i, j)"
      ]
    },
    {
      "cell_type": "code",
      "execution_count": 157,
      "metadata": {},
      "outputs": [
        {
          "name": "stdout",
          "output_type": "stream",
          "text": [
            "1 0\n",
            "4 1\n",
            "2 2\n",
            "4 3\n",
            "0 4\n",
            "None 5\n",
            "None 6\n",
            "None 7\n",
            "None 8\n",
            "None 9\n"
          ]
        }
      ],
      "source": [
        "from itertools import zip_longest # zip_longest 不是內建的，這行告訴 python 從哪個函式庫找 code\n",
        "\n",
        "# zip_longest\n",
        "for i, j in zip_longest(nums, numbers):\n",
        "    print(i, j)\n",
        "# 已經迭代完的迭代器會以 None 來補足缺少的值"
      ]
    },
    {
      "cell_type": "markdown",
      "metadata": {},
      "source": [
        "## 檢查元素是否存在\n",
        "\n",
        "用 `in` 這個字就可以檢查該元素是否存在。字串的話還可以檢查長度不為 1 的字串是不是包含在裡面。\n",
        "\n",
        "---\n",
        "#### Syntax\n",
        "```python\n",
        "\"app\" in \"apple\" # True\n",
        "```\n",
        "---\n",
        "\n",
        "也可以用在 if else 的情況，舉例"
      ]
    },
    {
      "cell_type": "code",
      "execution_count": 161,
      "metadata": {},
      "outputs": [
        {
          "name": "stdout",
          "output_type": "stream",
          "text": [
            "0 is in unique_nums\n",
            "1 is in unique_nums\n",
            "2 is in unique_nums\n",
            "4 is in unique_nums\n"
          ]
        }
      ],
      "source": [
        "for i in range(5):\n",
        "    if i in unique_nums:\n",
        "        print(str(i) + \" is in unique_nums\")"
      ]
    },
    {
      "cell_type": "markdown",
      "metadata": {},
      "source": [
        "如果要檢查不存在可以直接寫 `... not in ...`"
      ]
    },
    {
      "cell_type": "code",
      "execution_count": null,
      "metadata": {},
      "outputs": [],
      "source": [
        "for i in range(5):\n",
        "    if i not in unique_nums:\n",
        "        print(str(i) + \" is not in unique_nums\")"
      ]
    }
  ],
  "metadata": {
    "colab": {
      "collapsed_sections": [
        "3VHOMnTOAaq7",
        "Gd4CdBS6Ap4S",
        "YLHpnA_ZAs1y",
        "8tAfR583AuqL",
        "Pgoxp5aBry_X"
      ],
      "provenance": []
    },
    "kernelspec": {
      "display_name": "Python 3",
      "name": "python3"
    },
    "language_info": {
      "codemirror_mode": {
        "name": "ipython",
        "version": 3
      },
      "file_extension": ".py",
      "mimetype": "text/x-python",
      "name": "python",
      "nbconvert_exporter": "python",
      "pygments_lexer": "ipython3",
      "version": "3.9.17"
    }
  },
  "nbformat": 4,
  "nbformat_minor": 0
}
